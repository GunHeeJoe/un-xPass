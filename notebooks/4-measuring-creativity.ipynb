{
 "cells": [
  {
   "cell_type": "markdown",
   "id": "435033eb",
   "metadata": {},
   "source": [
    "# Measuring creativity\n",
    "\n",
    "Once you've trained a pass selection, pass outcome and pass value model, they can be combined to measure the creativity of a pass."
   ]
  },
  {
   "cell_type": "code",
   "execution_count": 48,
   "id": "84a0e37d",
   "metadata": {
    "tags": []
   },
   "outputs": [],
   "source": [
    "from pathlib import Path\n",
    "from functools import partial\n",
    "\n",
    "import matplotlib.pyplot as plt\n",
    "\n",
    "import pandas as pd\n",
    "import numpy as np\n",
    "import mlflow\n",
    "from scipy.ndimage import zoom\n",
    "import torch\n",
    "import warnings\n",
    "warnings.simplefilter(action='ignore', category=pd.errors.PerformanceWarning)\n",
    "warnings.filterwarnings(\"ignore\", category=UserWarning, module=\"mlflow.utils.autologging_utils\")"
   ]
  },
  {
   "cell_type": "code",
   "execution_count": 49,
   "id": "435cbe12",
   "metadata": {
    "tags": []
   },
   "outputs": [
    {
     "name": "stdout",
     "output_type": "stream",
     "text": [
      "The autoreload extension is already loaded. To reload it, use:\n",
      "  %reload_ext autoreload\n"
     ]
    }
   ],
   "source": [
    "%load_ext autoreload\n",
    "%autoreload 2"
   ]
  },
  {
   "cell_type": "code",
   "execution_count": 50,
   "id": "9bd9ad59",
   "metadata": {},
   "outputs": [],
   "source": [
    "import os, sys\n",
    "import tqdm\n",
    "sys.path.append(os.path.abspath(os.path.dirname(os.getcwd())))"
   ]
  },
  {
   "cell_type": "code",
   "execution_count": 51,
   "id": "2d3e26b8",
   "metadata": {
    "tags": []
   },
   "outputs": [],
   "source": [
    "from unxpass.databases import SQLiteDatabase\n",
    "from unxpass.datasets import PassesDataset\n",
    "from unxpass.components import pass_selection, pass_value, pass_success\n",
    "from unxpass.components.utils import load_model\n",
    "from unxpass.visualization import plot_action\n",
    "from unxpass.ratings import CreativeDecisionRating\n",
    "from unxpass import features"
   ]
  },
  {
   "cell_type": "code",
   "execution_count": 52,
   "id": "462583e9",
   "metadata": {
    "tags": []
   },
   "outputs": [],
   "source": [
    "plt_settings = {\"cmap\": \"magma\", \"vmin\": 0, \"vmax\": 1, \"interpolation\": \"bilinear\"}"
   ]
  },
  {
   "cell_type": "markdown",
   "id": "3aae3ed4",
   "metadata": {},
   "source": [
    "## Load dataset"
   ]
  },
  {
   "cell_type": "code",
   "execution_count": 55,
   "id": "88fc1fd1",
   "metadata": {},
   "outputs": [],
   "source": [
    "train_DB_PATH = Path(\"../stores/train-database.sqlite\")\n",
    "train_db = SQLiteDatabase('../stores/train-database.sqlite')\n",
    "\n",
    "test_DB_PATH = Path(\"../stores/test-database.sqlite\")\n",
    "test_db = SQLiteDatabase(test_DB_PATH)"
   ]
  },
  {
   "cell_type": "code",
   "execution_count": 56,
   "id": "7959ad32",
   "metadata": {},
   "outputs": [],
   "source": [
    "STORES_FP = Path(\"../stores\")\n",
    "\n",
    "dataset_train = partial(PassesDataset, path=STORES_FP / \"datasets\" / \"default\" / \"train\")\n",
    "dataset_test = partial(PassesDataset, path=STORES_FP / \"datasets\" / \"default\" / \"test\")\n",
    "\n",
    "# xfns = { \"startlocation\": [\"start_x_a0\", \"start_y_a0\"],\n",
    "#                 \"endlocation\": [\"end_x_a0\", \"end_y_a0\"],\n",
    "#                 \"speed\": [\"speedx_a02\", \"speedy_a02\"],\n",
    "#                 \"freeze_frame_360\": [\"freeze_frame_360_a0\"],\n",
    "#             }\n",
    "\n",
    "# yfns = [\"success\"]\n",
    "# dataset_train = PassesDataset(path=STORES_FP / \"datasets\" / \"default\" / \"train\",\n",
    "#                               xfns=xfns, yfns=yfns)\n",
    "# dataset_valid = PassesDataset(path=STORES_FP / \"datasets\" / \"default\" / \"valid\",\n",
    "#                               xfns=xfns, yfns=yfns)\n",
    "# dataset_test = PassesDataset(path=STORES_FP / \"datasets\" / \"default\" / \"test\",\n",
    "#                              xfns=xfns, yfns=yfns)"
   ]
  },
  {
   "cell_type": "code",
   "execution_count": 65,
   "id": "b01f0dd8",
   "metadata": {
    "tags": []
   },
   "outputs": [],
   "source": [
    "# Select an example pass\n",
    "SAMPLE = (3869118, 3)"
   ]
  },
  {
   "cell_type": "code",
   "execution_count": 61,
   "id": "a27ffb7d",
   "metadata": {},
   "outputs": [
    {
     "data": {
      "text/html": [
       "<div>\n",
       "<style scoped>\n",
       "    .dataframe tbody tr th:only-of-type {\n",
       "        vertical-align: middle;\n",
       "    }\n",
       "\n",
       "    .dataframe tbody tr th {\n",
       "        vertical-align: top;\n",
       "    }\n",
       "\n",
       "    .dataframe thead th {\n",
       "        text-align: right;\n",
       "    }\n",
       "</style>\n",
       "<table border=\"1\" class=\"dataframe\">\n",
       "  <thead>\n",
       "    <tr style=\"text-align: right;\">\n",
       "      <th></th>\n",
       "      <th></th>\n",
       "      <th>original_event_id</th>\n",
       "      <th>period_id</th>\n",
       "      <th>time_seconds</th>\n",
       "      <th>team_id</th>\n",
       "      <th>player_id</th>\n",
       "      <th>start_x</th>\n",
       "      <th>start_y</th>\n",
       "      <th>end_x</th>\n",
       "      <th>end_y</th>\n",
       "      <th>bodypart_id</th>\n",
       "      <th>type_id</th>\n",
       "      <th>result_id</th>\n",
       "      <th>possession_team_id</th>\n",
       "      <th>play_pattern_name</th>\n",
       "      <th>under_pressure</th>\n",
       "      <th>extra</th>\n",
       "      <th>visible_area_360</th>\n",
       "      <th>in_visible_area_360</th>\n",
       "      <th>freeze_frame_360</th>\n",
       "    </tr>\n",
       "    <tr>\n",
       "      <th>game_id</th>\n",
       "      <th>action_id</th>\n",
       "      <th></th>\n",
       "      <th></th>\n",
       "      <th></th>\n",
       "      <th></th>\n",
       "      <th></th>\n",
       "      <th></th>\n",
       "      <th></th>\n",
       "      <th></th>\n",
       "      <th></th>\n",
       "      <th></th>\n",
       "      <th></th>\n",
       "      <th></th>\n",
       "      <th></th>\n",
       "      <th></th>\n",
       "      <th></th>\n",
       "      <th></th>\n",
       "      <th></th>\n",
       "      <th></th>\n",
       "      <th></th>\n",
       "    </tr>\n",
       "  </thead>\n",
       "  <tbody>\n",
       "    <tr>\n",
       "      <th rowspan=\"11\" valign=\"top\">3869118</th>\n",
       "      <th>0</th>\n",
       "      <td>9ced36d7-29fd-4998-99a4-59d56e9f5e1b</td>\n",
       "      <td>1</td>\n",
       "      <td>0.0</td>\n",
       "      <td>787</td>\n",
       "      <td>80484</td>\n",
       "      <td>52.058824</td>\n",
       "      <td>33.655696</td>\n",
       "      <td>68.117647</td>\n",
       "      <td>34.774684</td>\n",
       "      <td>5</td>\n",
       "      <td>0</td>\n",
       "      <td>1</td>\n",
       "      <td>787.0</td>\n",
       "      <td>From Kick Off</td>\n",
       "      <td>0</td>\n",
       "      <td>{'pass': {'recipient': {'id': 5675, 'name': 'K...</td>\n",
       "      <td>[[12.3950971006639, 0.0], [37.12598412546818, ...</td>\n",
       "      <td>1</td>\n",
       "      <td>[{'teammate': True, 'actor': False, 'keeper': ...</td>\n",
       "    </tr>\n",
       "    <tr>\n",
       "      <th>1</th>\n",
       "      <td>dd513fb0-b951-498f-aa51-83a8c38864a8</td>\n",
       "      <td>1</td>\n",
       "      <td>2.0</td>\n",
       "      <td>787</td>\n",
       "      <td>5675</td>\n",
       "      <td>68.117647</td>\n",
       "      <td>34.774684</td>\n",
       "      <td>69.000000</td>\n",
       "      <td>37.615190</td>\n",
       "      <td>0</td>\n",
       "      <td>21</td>\n",
       "      <td>1</td>\n",
       "      <td>787.0</td>\n",
       "      <td>From Kick Off</td>\n",
       "      <td>1</td>\n",
       "      <td>{'carry': {'end_location': [41.8, 44.7]}}</td>\n",
       "      <td>[[8.754176647911976, 0.0], [35.476896951435364...</td>\n",
       "      <td>1</td>\n",
       "      <td>[{'teammate': True, 'actor': True, 'keeper': F...</td>\n",
       "    </tr>\n",
       "    <tr>\n",
       "      <th>2</th>\n",
       "      <td>33d07053-5add-4697-a7df-5f681cb6f709</td>\n",
       "      <td>1</td>\n",
       "      <td>4.0</td>\n",
       "      <td>787</td>\n",
       "      <td>5675</td>\n",
       "      <td>69.000000</td>\n",
       "      <td>37.615190</td>\n",
       "      <td>69.000000</td>\n",
       "      <td>37.615190</td>\n",
       "      <td>0</td>\n",
       "      <td>7</td>\n",
       "      <td>1</td>\n",
       "      <td>787.0</td>\n",
       "      <td>From Kick Off</td>\n",
       "      <td>1</td>\n",
       "      <td>{'dribble': {'outcome': {'id': 8, 'name': 'Com...</td>\n",
       "      <td>[[11.022498053501288, 0.0], [36.92515518408745...</td>\n",
       "      <td>0</td>\n",
       "      <td>[{'teammate': True, 'actor': False, 'keeper': ...</td>\n",
       "    </tr>\n",
       "    <tr>\n",
       "      <th>3</th>\n",
       "      <td>e382d019-b493-42bd-b085-2e1a3005c893</td>\n",
       "      <td>1</td>\n",
       "      <td>4.0</td>\n",
       "      <td>787</td>\n",
       "      <td>5675</td>\n",
       "      <td>69.000000</td>\n",
       "      <td>37.615190</td>\n",
       "      <td>69.000000</td>\n",
       "      <td>40.541772</td>\n",
       "      <td>0</td>\n",
       "      <td>21</td>\n",
       "      <td>1</td>\n",
       "      <td>787.0</td>\n",
       "      <td>From Kick Off</td>\n",
       "      <td>1</td>\n",
       "      <td>{'carry': {'end_location': [41.8, 48.1]}}</td>\n",
       "      <td>[[11.022498053501288, 0.0], [36.92515518408745...</td>\n",
       "      <td>0</td>\n",
       "      <td>[{'teammate': True, 'actor': False, 'keeper': ...</td>\n",
       "    </tr>\n",
       "    <tr>\n",
       "      <th>4</th>\n",
       "      <td>1dc73d02-516c-41fc-884f-ccc8a61209d7</td>\n",
       "      <td>1</td>\n",
       "      <td>5.0</td>\n",
       "      <td>787</td>\n",
       "      <td>5675</td>\n",
       "      <td>69.000000</td>\n",
       "      <td>40.541772</td>\n",
       "      <td>59.205882</td>\n",
       "      <td>34.688608</td>\n",
       "      <td>5</td>\n",
       "      <td>0</td>\n",
       "      <td>1</td>\n",
       "      <td>787.0</td>\n",
       "      <td>From Kick Off</td>\n",
       "      <td>0</td>\n",
       "      <td>{'pass': {'recipient': {'id': 31751, 'name': '...</td>\n",
       "      <td>[[12.95494146987005, 0.0], [34.739467068222, 6...</td>\n",
       "      <td>0</td>\n",
       "      <td>[{'teammate': False, 'actor': False, 'keeper':...</td>\n",
       "    </tr>\n",
       "    <tr>\n",
       "      <th>...</th>\n",
       "      <td>...</td>\n",
       "      <td>...</td>\n",
       "      <td>...</td>\n",
       "      <td>...</td>\n",
       "      <td>...</td>\n",
       "      <td>...</td>\n",
       "      <td>...</td>\n",
       "      <td>...</td>\n",
       "      <td>...</td>\n",
       "      <td>...</td>\n",
       "      <td>...</td>\n",
       "      <td>...</td>\n",
       "      <td>...</td>\n",
       "      <td>...</td>\n",
       "      <td>...</td>\n",
       "      <td>...</td>\n",
       "      <td>...</td>\n",
       "      <td>...</td>\n",
       "      <td>...</td>\n",
       "    </tr>\n",
       "    <tr>\n",
       "      <th>2082</th>\n",
       "      <td>053fd753-f751-4227-894d-9f727bd6f5d7</td>\n",
       "      <td>2</td>\n",
       "      <td>2938.0</td>\n",
       "      <td>768</td>\n",
       "      <td>3336</td>\n",
       "      <td>3.088235</td>\n",
       "      <td>32.708861</td>\n",
       "      <td>5.558824</td>\n",
       "      <td>3.873418</td>\n",
       "      <td>1</td>\n",
       "      <td>18</td>\n",
       "      <td>1</td>\n",
       "      <td>787.0</td>\n",
       "      <td>From Corner</td>\n",
       "      <td>1</td>\n",
       "      <td>{'clearance': {'head': True, 'body_part': {'id...</td>\n",
       "      <td>[[0.0, 0.0], [0.0, 48.901296464423396], [12.95...</td>\n",
       "      <td>1</td>\n",
       "      <td>[{'teammate': False, 'actor': False, 'keeper':...</td>\n",
       "    </tr>\n",
       "    <tr>\n",
       "      <th>2083</th>\n",
       "      <td>31614a4e-8d95-4a53-8eb3-0ce6bde809e8</td>\n",
       "      <td>2</td>\n",
       "      <td>2942.0</td>\n",
       "      <td>787</td>\n",
       "      <td>50498</td>\n",
       "      <td>5.558824</td>\n",
       "      <td>3.873418</td>\n",
       "      <td>9.970588</td>\n",
       "      <td>3.270886</td>\n",
       "      <td>0</td>\n",
       "      <td>21</td>\n",
       "      <td>1</td>\n",
       "      <td>787.0</td>\n",
       "      <td>From Corner</td>\n",
       "      <td>0</td>\n",
       "      <td>{'carry': {'end_location': [108.7, 4.8]}}</td>\n",
       "      <td>[[88.8559004758285, 10.500223116646467], [71.7...</td>\n",
       "      <td>0</td>\n",
       "      <td>[{'teammate': True, 'actor': False, 'keeper': ...</td>\n",
       "    </tr>\n",
       "    <tr>\n",
       "      <th>2084</th>\n",
       "      <td>2170b64c-8d44-4026-9c66-ca7a014f437f</td>\n",
       "      <td>2</td>\n",
       "      <td>2946.0</td>\n",
       "      <td>787</td>\n",
       "      <td>50498</td>\n",
       "      <td>9.970588</td>\n",
       "      <td>3.270886</td>\n",
       "      <td>13.235294</td>\n",
       "      <td>11.792405</td>\n",
       "      <td>5</td>\n",
       "      <td>0</td>\n",
       "      <td>1</td>\n",
       "      <td>787.0</td>\n",
       "      <td>From Corner</td>\n",
       "      <td>0</td>\n",
       "      <td>{'pass': {'recipient': {'id': 3675, 'name': 'F...</td>\n",
       "      <td>[[87.6273682139065, 11.465132252241922], [70.0...</td>\n",
       "      <td>0</td>\n",
       "      <td>[{'teammate': True, 'actor': False, 'keeper': ...</td>\n",
       "    </tr>\n",
       "    <tr>\n",
       "      <th>2085</th>\n",
       "      <td>646210d1-c00a-4f91-8c8c-0ad27a5ce329</td>\n",
       "      <td>2</td>\n",
       "      <td>2947.0</td>\n",
       "      <td>787</td>\n",
       "      <td>3675</td>\n",
       "      <td>13.235294</td>\n",
       "      <td>11.792405</td>\n",
       "      <td>8.294118</td>\n",
       "      <td>11.362025</td>\n",
       "      <td>0</td>\n",
       "      <td>21</td>\n",
       "      <td>1</td>\n",
       "      <td>787.0</td>\n",
       "      <td>From Corner</td>\n",
       "      <td>0</td>\n",
       "      <td>{'carry': {'end_location': [110.6, 14.2]}}</td>\n",
       "      <td>[[88.18471718540926, 11.72079343759222], [70.7...</td>\n",
       "      <td>0</td>\n",
       "      <td>[{'teammate': True, 'actor': False, 'keeper': ...</td>\n",
       "    </tr>\n",
       "    <tr>\n",
       "      <th>2086</th>\n",
       "      <td>a2f27341-bd19-47de-bc39-7694e7ab9c77</td>\n",
       "      <td>2</td>\n",
       "      <td>2948.0</td>\n",
       "      <td>787</td>\n",
       "      <td>3675</td>\n",
       "      <td>8.294118</td>\n",
       "      <td>11.362025</td>\n",
       "      <td>7.676471</td>\n",
       "      <td>13.427848</td>\n",
       "      <td>4</td>\n",
       "      <td>0</td>\n",
       "      <td>0</td>\n",
       "      <td>787.0</td>\n",
       "      <td>From Corner</td>\n",
       "      <td>0</td>\n",
       "      <td>{'pass': {'length': 2.5, 'angle': 1.2870022, '...</td>\n",
       "      <td>None</td>\n",
       "      <td>0</td>\n",
       "      <td>None</td>\n",
       "    </tr>\n",
       "  </tbody>\n",
       "</table>\n",
       "<p>2087 rows × 19 columns</p>\n",
       "</div>"
      ],
      "text/plain": [
       "                                      original_event_id  period_id  \\\n",
       "game_id action_id                                                    \n",
       "3869118 0          9ced36d7-29fd-4998-99a4-59d56e9f5e1b          1   \n",
       "        1          dd513fb0-b951-498f-aa51-83a8c38864a8          1   \n",
       "        2          33d07053-5add-4697-a7df-5f681cb6f709          1   \n",
       "        3          e382d019-b493-42bd-b085-2e1a3005c893          1   \n",
       "        4          1dc73d02-516c-41fc-884f-ccc8a61209d7          1   \n",
       "...                                                 ...        ...   \n",
       "        2082       053fd753-f751-4227-894d-9f727bd6f5d7          2   \n",
       "        2083       31614a4e-8d95-4a53-8eb3-0ce6bde809e8          2   \n",
       "        2084       2170b64c-8d44-4026-9c66-ca7a014f437f          2   \n",
       "        2085       646210d1-c00a-4f91-8c8c-0ad27a5ce329          2   \n",
       "        2086       a2f27341-bd19-47de-bc39-7694e7ab9c77          2   \n",
       "\n",
       "                   time_seconds  team_id  player_id    start_x    start_y  \\\n",
       "game_id action_id                                                           \n",
       "3869118 0                   0.0      787      80484  52.058824  33.655696   \n",
       "        1                   2.0      787       5675  68.117647  34.774684   \n",
       "        2                   4.0      787       5675  69.000000  37.615190   \n",
       "        3                   4.0      787       5675  69.000000  37.615190   \n",
       "        4                   5.0      787       5675  69.000000  40.541772   \n",
       "...                         ...      ...        ...        ...        ...   \n",
       "        2082             2938.0      768       3336   3.088235  32.708861   \n",
       "        2083             2942.0      787      50498   5.558824   3.873418   \n",
       "        2084             2946.0      787      50498   9.970588   3.270886   \n",
       "        2085             2947.0      787       3675  13.235294  11.792405   \n",
       "        2086             2948.0      787       3675   8.294118  11.362025   \n",
       "\n",
       "                       end_x      end_y  bodypart_id  type_id  result_id  \\\n",
       "game_id action_id                                                          \n",
       "3869118 0          68.117647  34.774684            5        0          1   \n",
       "        1          69.000000  37.615190            0       21          1   \n",
       "        2          69.000000  37.615190            0        7          1   \n",
       "        3          69.000000  40.541772            0       21          1   \n",
       "        4          59.205882  34.688608            5        0          1   \n",
       "...                      ...        ...          ...      ...        ...   \n",
       "        2082        5.558824   3.873418            1       18          1   \n",
       "        2083        9.970588   3.270886            0       21          1   \n",
       "        2084       13.235294  11.792405            5        0          1   \n",
       "        2085        8.294118  11.362025            0       21          1   \n",
       "        2086        7.676471  13.427848            4        0          0   \n",
       "\n",
       "                   possession_team_id play_pattern_name  under_pressure  \\\n",
       "game_id action_id                                                         \n",
       "3869118 0                       787.0     From Kick Off               0   \n",
       "        1                       787.0     From Kick Off               1   \n",
       "        2                       787.0     From Kick Off               1   \n",
       "        3                       787.0     From Kick Off               1   \n",
       "        4                       787.0     From Kick Off               0   \n",
       "...                               ...               ...             ...   \n",
       "        2082                    787.0       From Corner               1   \n",
       "        2083                    787.0       From Corner               0   \n",
       "        2084                    787.0       From Corner               0   \n",
       "        2085                    787.0       From Corner               0   \n",
       "        2086                    787.0       From Corner               0   \n",
       "\n",
       "                                                               extra  \\\n",
       "game_id action_id                                                      \n",
       "3869118 0          {'pass': {'recipient': {'id': 5675, 'name': 'K...   \n",
       "        1                  {'carry': {'end_location': [41.8, 44.7]}}   \n",
       "        2          {'dribble': {'outcome': {'id': 8, 'name': 'Com...   \n",
       "        3                  {'carry': {'end_location': [41.8, 48.1]}}   \n",
       "        4          {'pass': {'recipient': {'id': 31751, 'name': '...   \n",
       "...                                                              ...   \n",
       "        2082       {'clearance': {'head': True, 'body_part': {'id...   \n",
       "        2083               {'carry': {'end_location': [108.7, 4.8]}}   \n",
       "        2084       {'pass': {'recipient': {'id': 3675, 'name': 'F...   \n",
       "        2085              {'carry': {'end_location': [110.6, 14.2]}}   \n",
       "        2086       {'pass': {'length': 2.5, 'angle': 1.2870022, '...   \n",
       "\n",
       "                                                    visible_area_360  \\\n",
       "game_id action_id                                                      \n",
       "3869118 0          [[12.3950971006639, 0.0], [37.12598412546818, ...   \n",
       "        1          [[8.754176647911976, 0.0], [35.476896951435364...   \n",
       "        2          [[11.022498053501288, 0.0], [36.92515518408745...   \n",
       "        3          [[11.022498053501288, 0.0], [36.92515518408745...   \n",
       "        4          [[12.95494146987005, 0.0], [34.739467068222, 6...   \n",
       "...                                                              ...   \n",
       "        2082       [[0.0, 0.0], [0.0, 48.901296464423396], [12.95...   \n",
       "        2083       [[88.8559004758285, 10.500223116646467], [71.7...   \n",
       "        2084       [[87.6273682139065, 11.465132252241922], [70.0...   \n",
       "        2085       [[88.18471718540926, 11.72079343759222], [70.7...   \n",
       "        2086                                                    None   \n",
       "\n",
       "                   in_visible_area_360  \\\n",
       "game_id action_id                        \n",
       "3869118 0                            1   \n",
       "        1                            1   \n",
       "        2                            0   \n",
       "        3                            0   \n",
       "        4                            0   \n",
       "...                                ...   \n",
       "        2082                         1   \n",
       "        2083                         0   \n",
       "        2084                         0   \n",
       "        2085                         0   \n",
       "        2086                         0   \n",
       "\n",
       "                                                    freeze_frame_360  \n",
       "game_id action_id                                                     \n",
       "3869118 0          [{'teammate': True, 'actor': False, 'keeper': ...  \n",
       "        1          [{'teammate': True, 'actor': True, 'keeper': F...  \n",
       "        2          [{'teammate': True, 'actor': False, 'keeper': ...  \n",
       "        3          [{'teammate': True, 'actor': False, 'keeper': ...  \n",
       "        4          [{'teammate': False, 'actor': False, 'keeper':...  \n",
       "...                                                              ...  \n",
       "        2082       [{'teammate': False, 'actor': False, 'keeper':...  \n",
       "        2083       [{'teammate': True, 'actor': False, 'keeper': ...  \n",
       "        2084       [{'teammate': True, 'actor': False, 'keeper': ...  \n",
       "        2085       [{'teammate': True, 'actor': False, 'keeper': ...  \n",
       "        2086                                                    None  \n",
       "\n",
       "[2087 rows x 19 columns]"
      ]
     },
     "execution_count": 61,
     "metadata": {},
     "output_type": "execute_result"
    }
   ],
   "source": [
    "test_db.actions(game_id=SAMPLE[0])"
   ]
  },
  {
   "cell_type": "code",
   "execution_count": 66,
   "id": "5a6cca79",
   "metadata": {
    "tags": []
   },
   "outputs": [
    {
     "data": {
      "text/html": [
       "<div>\n",
       "<style scoped>\n",
       "    .dataframe tbody tr th:only-of-type {\n",
       "        vertical-align: middle;\n",
       "    }\n",
       "\n",
       "    .dataframe tbody tr th {\n",
       "        vertical-align: top;\n",
       "    }\n",
       "\n",
       "    .dataframe thead th {\n",
       "        text-align: right;\n",
       "    }\n",
       "</style>\n",
       "<table border=\"1\" class=\"dataframe\">\n",
       "  <thead>\n",
       "    <tr style=\"text-align: right;\">\n",
       "      <th></th>\n",
       "      <th></th>\n",
       "      <th>original_event_id</th>\n",
       "      <th>period_id</th>\n",
       "      <th>time_seconds</th>\n",
       "      <th>team_id</th>\n",
       "      <th>player_id</th>\n",
       "      <th>start_x</th>\n",
       "      <th>start_y</th>\n",
       "      <th>end_x</th>\n",
       "      <th>end_y</th>\n",
       "      <th>bodypart_id</th>\n",
       "      <th>type_id</th>\n",
       "      <th>result_id</th>\n",
       "      <th>possession_team_id</th>\n",
       "      <th>play_pattern_name</th>\n",
       "      <th>under_pressure</th>\n",
       "      <th>extra</th>\n",
       "      <th>visible_area_360</th>\n",
       "      <th>in_visible_area_360</th>\n",
       "      <th>freeze_frame_360</th>\n",
       "    </tr>\n",
       "  </thead>\n",
       "  <tbody>\n",
       "    <tr>\n",
       "      <th>3869118</th>\n",
       "      <th>3</th>\n",
       "      <td>e382d019-b493-42bd-b085-2e1a3005c893</td>\n",
       "      <td>1</td>\n",
       "      <td>4.0</td>\n",
       "      <td>787</td>\n",
       "      <td>5675</td>\n",
       "      <td>69.0</td>\n",
       "      <td>37.61519</td>\n",
       "      <td>69.0</td>\n",
       "      <td>40.541772</td>\n",
       "      <td>0</td>\n",
       "      <td>21</td>\n",
       "      <td>1</td>\n",
       "      <td>787.0</td>\n",
       "      <td>From Kick Off</td>\n",
       "      <td>1</td>\n",
       "      <td>{'carry': {'end_location': [41.8, 48.1]}}</td>\n",
       "      <td>[[11.022498053501288, 0.0], [36.92515518408745...</td>\n",
       "      <td>0</td>\n",
       "      <td>[{'teammate': True, 'actor': False, 'keeper': ...</td>\n",
       "    </tr>\n",
       "  </tbody>\n",
       "</table>\n",
       "</div>"
      ],
      "text/plain": [
       "                              original_event_id period_id time_seconds  \\\n",
       "3869118 3  e382d019-b493-42bd-b085-2e1a3005c893         1          4.0   \n",
       "\n",
       "          team_id player_id start_x   start_y end_x      end_y bodypart_id  \\\n",
       "3869118 3     787      5675    69.0  37.61519  69.0  40.541772           0   \n",
       "\n",
       "          type_id result_id possession_team_id play_pattern_name  \\\n",
       "3869118 3      21         1              787.0     From Kick Off   \n",
       "\n",
       "          under_pressure                                      extra  \\\n",
       "3869118 3              1  {'carry': {'end_location': [41.8, 48.1]}}   \n",
       "\n",
       "                                            visible_area_360  \\\n",
       "3869118 3  [[11.022498053501288, 0.0], [36.92515518408745...   \n",
       "\n",
       "          in_visible_area_360  \\\n",
       "3869118 3                   0   \n",
       "\n",
       "                                            freeze_frame_360  \n",
       "3869118 3  [{'teammate': True, 'actor': False, 'keeper': ...  "
      ]
     },
     "metadata": {},
     "output_type": "display_data"
    },
    {
     "data": {
      "image/png": "[encoded data removed]",
      "text/plain": [
       "<Figure size 432x288 with 1 Axes>"
      ]
     },
     "metadata": {},
     "output_type": "display_data"
    }
   ],
   "source": [
    "# Show the selected example\n",
    "ex_action = test_db.actions(game_id=SAMPLE[0]).loc[SAMPLE]\n",
    "display(ex_action.to_frame().T)\n",
    "\n",
    "fig, ax = plt.subplots(figsize=(6,4))\n",
    "ax = plot_action(ex_action, ax=ax)\n",
    "plt.show()"
   ]
  },
  {
   "cell_type": "code",
   "execution_count": 15,
   "id": "96618bb3",
   "metadata": {},
   "outputs": [
    {
     "ename": "AttributeError",
     "evalue": "'dict' object has no attribute 'index'",
     "output_type": "error",
     "traceback": [
      "\u001b[0;31m---------------------------------------------------------------------------\u001b[0m",
      "\u001b[0;31mAttributeError\u001b[0m                            Traceback (most recent call last)",
      "\u001b[0;32m<ipython-input-15-598b9cbcb659>\u001b[0m in \u001b[0;36m<module>\u001b[0;34m\u001b[0m\n\u001b[1;32m      1\u001b[0m features.simulate_features(test_db,3788743,xfns=features.all_features,actionfilter=None,\n\u001b[1;32m      2\u001b[0m                            \u001b[0mnb_prev_actions\u001b[0m\u001b[0;34m=\u001b[0m\u001b[0;36m3\u001b[0m\u001b[0;34m,\u001b[0m\u001b[0mxy\u001b[0m\u001b[0;34m=\u001b[0m\u001b[0mxy\u001b[0m\u001b[0;34m,\u001b[0m\u001b[0;34m\u001b[0m\u001b[0;34m\u001b[0m\u001b[0m\n\u001b[0;32m----> 3\u001b[0;31m                            x_bins=104,y_bins=68,result='success')\n\u001b[0m",
      "\u001b[0;32m~/un-xPass/unxpass/features.py\u001b[0m in \u001b[0;36msimulate_features\u001b[0;34m(db, game_id, xfns, actionfilter, nb_prev_actions, xy, x_bins, y_bins, result)\u001b[0m\n\u001b[1;32m   1077\u001b[0m     \u001b[0;32melse\u001b[0m\u001b[0;34m:\u001b[0m\u001b[0;34m\u001b[0m\u001b[0;34m\u001b[0m\u001b[0m\n\u001b[1;32m   1078\u001b[0m         \u001b[0;32mfor\u001b[0m \u001b[0mend\u001b[0m \u001b[0;32min\u001b[0m \u001b[0mxy\u001b[0m\u001b[0;34m:\u001b[0m\u001b[0;34m\u001b[0m\u001b[0;34m\u001b[0m\u001b[0m\n\u001b[0;32m-> 1079\u001b[0;31m             \u001b[0mgamestates\u001b[0m\u001b[0;34m[\u001b[0m\u001b[0;36m0\u001b[0m\u001b[0;34m]\u001b[0m\u001b[0;34m.\u001b[0m\u001b[0mloc\u001b[0m\u001b[0;34m[\u001b[0m\u001b[0mend\u001b[0m\u001b[0;34m.\u001b[0m\u001b[0mindex\u001b[0m\u001b[0;34m,\u001b[0m \u001b[0;34m[\u001b[0m\u001b[0;34m\"end_x\"\u001b[0m\u001b[0;34m,\u001b[0m \u001b[0;34m\"end_y\"\u001b[0m\u001b[0;34m]\u001b[0m\u001b[0;34m]\u001b[0m \u001b[0;34m=\u001b[0m \u001b[0mend\u001b[0m\u001b[0;34m.\u001b[0m\u001b[0mvalues\u001b[0m\u001b[0;34m\u001b[0m\u001b[0;34m\u001b[0m\u001b[0m\n\u001b[0m\u001b[1;32m   1080\u001b[0m             df_simulated_features.append(\n\u001b[1;32m   1081\u001b[0m                 reduce(\n",
      "\u001b[0;31mAttributeError\u001b[0m: 'dict' object has no attribute 'index'"
     ]
    }
   ],
   "source": [
    "features.simulate_features(test_db,3788743,xfns=features.all_features,actionfilter=None,\n",
    "                           nb_prev_actions=3,xy=xy,\n",
    "                           x_bins=104,y_bins=68,result='success')"
   ]
  },
  {
   "cell_type": "markdown",
   "id": "cbdb70da-3aa9-4115-9f40-b59b03fdc32b",
   "metadata": {},
   "source": [
    "Note that this is probably not a creative pass. It looks like a typical pass and it is not very useful."
   ]
  },
  {
   "cell_type": "markdown",
   "id": "f497b078-8ea0-41f6-b23c-592b1cd4bb11",
   "metadata": {},
   "source": [
    "## Load models"
   ]
  },
  {
   "cell_type": "markdown",
   "id": "21089b22",
   "metadata": {},
   "source": [
    "### Pass selection"
   ]
  },
  {
   "cell_type": "code",
   "execution_count": null,
   "id": "32207f3e",
   "metadata": {},
   "outputs": [],
   "source": [
    "# model_pass_selection = pass_selection.SoccerMapComponent(\n",
    "#     pass_selection.PytorchSoccerMapModel() )"
   ]
  },
  {
   "cell_type": "code",
   "execution_count": null,
   "id": "088dc4de",
   "metadata": {},
   "outputs": [],
   "source": [
    "# model_pass_selection.train(dataset_train)"
   ]
  },
  {
   "cell_type": "code",
   "execution_count": null,
   "id": "042b58cb",
   "metadata": {
    "tags": []
   },
   "outputs": [],
   "source": [
    "# surface_pass_selection = model_pass_selection.predict_surface(dataset_test)"
   ]
  },
  {
   "cell_type": "code",
   "execution_count": null,
   "id": "0c2b8b63",
   "metadata": {
    "tags": []
   },
   "outputs": [
    {
     "data": {
      "image/png": "[encoded data removed]",
      "text/plain": [
       "<Figure size 640x480 with 1 Axes>"
      ]
     },
     "metadata": {},
     "output_type": "display_data"
    }
   ],
   "source": [
    "# fig, ax = plt.subplots()\n",
    "# ax = plot_action(\n",
    "#     ex_action, surface=surface_pass_selection[SAMPLE[0]][SAMPLE[1]], \n",
    "#     show_visible_area=False, show_action=False,\n",
    "#     ax=ax, surface_kwargs={**plt_settings, \"vmin\": None, \"vmax\": None, \"cmap\": \"Greens\"}\n",
    "# )\n",
    "# plt.show()"
   ]
  },
  {
   "cell_type": "markdown",
   "id": "a3b40fba",
   "metadata": {},
   "source": [
    "### Pass success"
   ]
  },
  {
   "cell_type": "code",
   "execution_count": 67,
   "id": "e837a570",
   "metadata": {},
   "outputs": [
    {
     "name": "stderr",
     "output_type": "stream",
     "text": [
      "GPU available: True (cuda), used: True\n",
      "TPU available: False, using: 0 TPU cores\n",
      "IPU available: False, using: 0 IPUs\n",
      "HPU available: False, using: 0 HPUs\n"
     ]
    }
   ],
   "source": [
    "model_pass_success = pass_success.SoccerMapComponent(\n",
    "    pass_success.PytorchSoccerMapModel()) "
   ]
  },
  {
   "cell_type": "code",
   "execution_count": 68,
   "id": "f77554ae",
   "metadata": {},
   "outputs": [
    {
     "name": "stderr",
     "output_type": "stream",
     "text": [
      "LOCAL_RANK: 0 - CUDA_VISIBLE_DEVICES: [0,1]\n",
      "\n",
      "  | Name      | Type      | Params\n",
      "----------------------------------------\n",
      "0 | model     | SoccerMap | 269 K \n",
      "1 | sigmoid   | Sigmoid   | 0     \n",
      "2 | criterion | BCELoss   | 0     \n",
      "----------------------------------------\n",
      "269 K     Trainable params\n",
      "0         Non-trainable params\n",
      "269 K     Total params\n",
      "1.078     Total estimated model params size (MB)\n"
     ]
    },
    {
     "name": "stdout",
     "output_type": "stream",
     "text": [
      "subset sampler value counts : train:[3055, 23130] & valid:[1018, 7711]\n"
     ]
    },
    {
     "data": {
      "application/vnd.jupyter.widget-view+json": {
       "model_id": "b7b04d5f670445a2a9c8c3620e5cc5d5",
       "version_major": 2,
       "version_minor": 0
      },
      "text/plain": [
       "Sanity Checking: 0it [00:00, ?it/s]"
      ]
     },
     "metadata": {},
     "output_type": "display_data"
    },
    {
     "data": {
      "application/vnd.jupyter.widget-view+json": {
       "model_id": "87227c959b1e42d4a44b79ad44035da4",
       "version_major": 2,
       "version_minor": 0
      },
      "text/plain": [
       "Training: 0it [00:00, ?it/s]"
      ]
     },
     "metadata": {},
     "output_type": "display_data"
    },
    {
     "data": {
      "application/vnd.jupyter.widget-view+json": {
       "model_id": "89089824785a40bfa1f747081aa1b35d",
       "version_major": 2,
       "version_minor": 0
      },
      "text/plain": [
       "Validation: 0it [00:00, ?it/s]"
      ]
     },
     "metadata": {},
     "output_type": "display_data"
    },
    {
     "name": "stderr",
     "output_type": "stream",
     "text": [
      "`Trainer.fit` stopped: `max_epochs=1` reached.\n"
     ]
    },
    {
     "ename": "",
     "evalue": "",
     "output_type": "error",
     "traceback": [
      "\u001b[1;31mThe Kernel crashed while executing code in the the current cell or a previous cell. Please review the code in the cell(s) to identify a possible cause of the failure. Click <a href='https://aka.ms/vscodeJupyterKernelCrash'>here</a> for more info. View Jupyter <a href='command:jupyter.viewOutput'>log</a> for further details."
     ]
    }
   ],
   "source": [
    "model_pass_success.train(dataset_train)"
   ]
  },
  {
   "cell_type": "markdown",
   "id": "e0cbfc87",
   "metadata": {},
   "source": [
    "### Pass value"
   ]
  },
  {
   "cell_type": "code",
   "execution_count": null,
   "id": "ec70fd83",
   "metadata": {
    "tags": []
   },
   "outputs": [],
   "source": [
    "# model_pass_value = pass_value.SoccerMapComponent(\n",
    "#     pass_value.PytorchSoccerMapModel() )"
   ]
  },
  {
   "cell_type": "markdown",
   "id": "829e792f-05fb-4a24-a610-91ed83d38561",
   "metadata": {},
   "source": [
    "## Value creativity"
   ]
  },
  {
   "cell_type": "code",
   "execution_count": null,
   "id": "17b3076d",
   "metadata": {},
   "outputs": [
    {
     "name": "stderr",
     "output_type": "stream",
     "text": [
      "GPU available: True (cuda), used: False\n",
      "TPU available: False, using: 0 TPU cores\n",
      "IPU available: False, using: 0 IPUs\n",
      "HPU available: False, using: 0 HPUs\n"
     ]
    },
    {
     "data": {
      "text/html": [
       "<pre style=\"white-space:pre;overflow-x:auto;line-height:normal;font-family:Menlo,'DejaVu Sans Mono',consolas,'Courier New',monospace\"><span style=\"color: #7fbfbf; text-decoration-color: #7fbfbf\">[07/28/23 17:48:39] </span><span style=\"color: #000080; text-decoration-color: #000080\">INFO    </span> Loading dataset from ..<span style=\"color: #800080; text-decoration-color: #800080\">/stores/datasets/default/</span><span style=\"color: #ff00ff; text-decoration-color: #ff00ff\">train</span>                  <a href=\"file:///home/toc3/anaconda3/lib/python3.7/site-packages/lightning_utilities/core/rank_zero.py\" target=\"_blank\"><span style=\"color: #7f7f7f; text-decoration-color: #7f7f7f\">rank_zero.py</span></a><span style=\"color: #7f7f7f; text-decoration-color: #7f7f7f\">:</span><a href=\"file:///home/toc3/anaconda3/lib/python3.7/site-packages/lightning_utilities/core/rank_zero.py#32\" target=\"_blank\"><span style=\"color: #7f7f7f; text-decoration-color: #7f7f7f\">32</span></a>\n",
       "</pre>\n"
      ],
      "text/plain": [
       "\u001b[2;36m[07/28/23 17:48:39]\u001b[0m\u001b[2;36m \u001b[0m\u001b[34mINFO    \u001b[0m Loading dataset from ..\u001b[35m/stores/datasets/default/\u001b[0m\u001b[95mtrain\u001b[0m                  \u001b]8;id=708526;file:///home/toc3/anaconda3/lib/python3.7/site-packages/lightning_utilities/core/rank_zero.py\u001b\\\u001b[2mrank_zero.py\u001b[0m\u001b]8;;\u001b\\\u001b[2m:\u001b[0m\u001b]8;id=75898;file:///home/toc3/anaconda3/lib/python3.7/site-packages/lightning_utilities/core/rank_zero.py#32\u001b\\\u001b[2m32\u001b[0m\u001b]8;;\u001b\\\n"
      ]
     },
     "metadata": {},
     "output_type": "display_data"
    },
    {
     "data": {
      "text/html": [
       "<pre style=\"white-space:pre;overflow-x:auto;line-height:normal;font-family:Menlo,'DejaVu Sans Mono',consolas,'Courier New',monospace\"><span style=\"color: #7fbfbf; text-decoration-color: #7fbfbf\">[07/28/23 17:48:41] </span><span style=\"color: #000080; text-decoration-color: #000080\">INFO    </span> Fitting model on train set                                             <a href=\"file:///home/toc3/anaconda3/lib/python3.7/site-packages/lightning_utilities/core/rank_zero.py\" target=\"_blank\"><span style=\"color: #7f7f7f; text-decoration-color: #7f7f7f\">rank_zero.py</span></a><span style=\"color: #7f7f7f; text-decoration-color: #7f7f7f\">:</span><a href=\"file:///home/toc3/anaconda3/lib/python3.7/site-packages/lightning_utilities/core/rank_zero.py#32\" target=\"_blank\"><span style=\"color: #7f7f7f; text-decoration-color: #7f7f7f\">32</span></a>\n",
       "</pre>\n"
      ],
      "text/plain": [
       "\u001b[2;36m[07/28/23 17:48:41]\u001b[0m\u001b[2;36m \u001b[0m\u001b[34mINFO    \u001b[0m Fitting model on train set                                             \u001b]8;id=652913;file:///home/toc3/anaconda3/lib/python3.7/site-packages/lightning_utilities/core/rank_zero.py\u001b\\\u001b[2mrank_zero.py\u001b[0m\u001b]8;;\u001b\\\u001b[2m:\u001b[0m\u001b]8;id=908549;file:///home/toc3/anaconda3/lib/python3.7/site-packages/lightning_utilities/core/rank_zero.py#32\u001b\\\u001b[2m32\u001b[0m\u001b]8;;\u001b\\\n"
      ]
     },
     "metadata": {},
     "output_type": "display_data"
    },
    {
     "name": "stderr",
     "output_type": "stream",
     "text": [
      "\n",
      "  | Name      | Type      | Params\n",
      "----------------------------------------\n",
      "0 | model     | SoccerMap | 269 K \n",
      "1 | sigmoid   | Sigmoid   | 0     \n",
      "2 | criterion | MSELoss   | 0     \n",
      "----------------------------------------\n",
      "269 K     Trainable params\n",
      "0         Non-trainable params\n",
      "269 K     Total params\n",
      "1.078     Total estimated model params size (MB)\n"
     ]
    },
    {
     "data": {
      "application/vnd.jupyter.widget-view+json": {
       "model_id": "01f0c7f74abf4ab49bb5143d61f232aa",
       "version_major": 2,
       "version_minor": 0
      },
      "text/plain": [
       "Sanity Checking: 0it [00:00, ?it/s]"
      ]
     },
     "metadata": {},
     "output_type": "display_data"
    },
    {
     "data": {
      "application/vnd.jupyter.widget-view+json": {
       "model_id": "376239f92263478898e5191b6b5c883d",
       "version_major": 2,
       "version_minor": 0
      },
      "text/plain": [
       "Training: 0it [00:00, ?it/s]"
      ]
     },
     "metadata": {},
     "output_type": "display_data"
    },
    {
     "data": {
      "application/vnd.jupyter.widget-view+json": {
       "model_id": "b6293fb87fb44f408d3aea778bbbd4e0",
       "version_major": 2,
       "version_minor": 0
      },
      "text/plain": [
       "Validation: 0it [00:00, ?it/s]"
      ]
     },
     "metadata": {},
     "output_type": "display_data"
    },
    {
     "name": "stderr",
     "output_type": "stream",
     "text": [
      "`Trainer.fit` stopped: `max_epochs=1` reached.\n"
     ]
    },
    {
     "data": {
      "text/html": [
       "<pre style=\"white-space:pre;overflow-x:auto;line-height:normal;font-family:Menlo,'DejaVu Sans Mono',consolas,'Courier New',monospace\"><span style=\"color: #7fbfbf; text-decoration-color: #7fbfbf\">[07/28/23 18:05:34] </span><span style=\"color: #000080; text-decoration-color: #000080\">INFO    </span> Best checkpoint path:                                                  <a href=\"file:///home/toc3/anaconda3/lib/python3.7/site-packages/lightning_utilities/core/rank_zero.py\" target=\"_blank\"><span style=\"color: #7f7f7f; text-decoration-color: #7f7f7f\">rank_zero.py</span></a><span style=\"color: #7f7f7f; text-decoration-color: #7f7f7f\">:</span><a href=\"file:///home/toc3/anaconda3/lib/python3.7/site-packages/lightning_utilities/core/rank_zero.py#32\" target=\"_blank\"><span style=\"color: #7f7f7f; text-decoration-color: #7f7f7f\">32</span></a>\n",
       "<span style=\"color: #7fbfbf; text-decoration-color: #7fbfbf\">                    </span>         <span style=\"color: #800080; text-decoration-color: #800080\">/home/toc3/un-xPass/notebooks/lightning_logs/version_12/checkpoints/</span><span style=\"color: #ff00ff; text-decoration-color: #ff00ff\">ep</span> <span style=\"color: #7f7f7f; text-decoration-color: #7f7f7f\">               </span>\n",
       "<span style=\"color: #7fbfbf; text-decoration-color: #7fbfbf\">                    </span>         <span style=\"color: #ff00ff; text-decoration-color: #ff00ff\">och</span>=<span style=\"color: #008080; text-decoration-color: #008080; font-weight: bold\">0</span>-<span style=\"color: #808000; text-decoration-color: #808000\">step</span>=<span style=\"color: #008080; text-decoration-color: #008080; font-weight: bold\">819.</span>ckpt                                                    <span style=\"color: #7f7f7f; text-decoration-color: #7f7f7f\">               </span>\n",
       "</pre>\n"
      ],
      "text/plain": [
       "\u001b[2;36m[07/28/23 18:05:34]\u001b[0m\u001b[2;36m \u001b[0m\u001b[34mINFO    \u001b[0m Best checkpoint path:                                                  \u001b]8;id=935520;file:///home/toc3/anaconda3/lib/python3.7/site-packages/lightning_utilities/core/rank_zero.py\u001b\\\u001b[2mrank_zero.py\u001b[0m\u001b]8;;\u001b\\\u001b[2m:\u001b[0m\u001b]8;id=481909;file:///home/toc3/anaconda3/lib/python3.7/site-packages/lightning_utilities/core/rank_zero.py#32\u001b\\\u001b[2m32\u001b[0m\u001b]8;;\u001b\\\n",
       "\u001b[2;36m                    \u001b[0m         \u001b[35m/home/toc3/un-xPass/notebooks/lightning_logs/version_12/checkpoints/\u001b[0m\u001b[95mep\u001b[0m \u001b[2m               \u001b[0m\n",
       "\u001b[2;36m                    \u001b[0m         \u001b[95moch\u001b[0m=\u001b[1;36m0\u001b[0m-\u001b[33mstep\u001b[0m=\u001b[1;36m819\u001b[0m\u001b[1;36m.\u001b[0mckpt                                                    \u001b[2m               \u001b[0m\n"
      ]
     },
     "metadata": {},
     "output_type": "display_data"
    }
   ],
   "source": [
    "# model_pass_value.train(dataset_train)"
   ]
  },
  {
   "cell_type": "code",
   "execution_count": null,
   "id": "11ccc89d",
   "metadata": {},
   "outputs": [],
   "source": [
    "model_pass_selection = torch.load(\"./Pretrained_pass_selection_model/SoccerMap\")\n",
    "model_pass_success = torch.load(\"./Pretrained_pass_success_model/SoccerMap\")\n",
    "model_pass_value = torch.load(\"./Pretrained_pass_value_model/SoccerMap\")"
   ]
  },
  {
   "cell_type": "code",
   "execution_count": null,
   "id": "05ba0d05-6cc7-4fff-9c6e-2ba0c6fec31e",
   "metadata": {
    "tags": []
   },
   "outputs": [],
   "source": [
    "rater = CreativeDecisionRating(\n",
    "    pass_selection_component=model_pass_selection,\n",
    "    pass_success_component=model_pass_success,\n",
    "    pass_value_component=model_pass_value\n",
    ")"
   ]
  },
  {
   "cell_type": "code",
   "execution_count": null,
   "id": "b1f0fb24-2cd8-444a-9c7f-d4309cc4e801",
   "metadata": {
    "tags": []
   },
   "outputs": [
    {
     "name": "stderr",
     "output_type": "stream",
     "text": [
      "GPU available: True (cuda), used: False\n",
      "TPU available: False, using: 0 TPU cores\n",
      "IPU available: False, using: 0 IPUs\n",
      "HPU available: False, using: 0 HPUs\n"
     ]
    },
    {
     "data": {
      "application/vnd.jupyter.widget-view+json": {
       "model_id": "39a8331634234bdc94e3ef8fed9b51b3",
       "version_major": 2,
       "version_minor": 0
      },
      "text/plain": [
       "Predicting: 0it [00:00, ?it/s]"
      ]
     },
     "metadata": {},
     "output_type": "display_data"
    },
    {
     "data": {
      "application/vnd.jupyter.widget-view+json": {
       "model_id": "f1e05573e5ec48369edee128c9db65fe",
       "version_major": 2,
       "version_minor": 0
      },
      "text/plain": [
       "Output()"
      ]
     },
     "metadata": {},
     "output_type": "display_data"
    },
    {
     "data": {
      "text/html": [
       "<pre style=\"white-space:pre;overflow-x:auto;line-height:normal;font-family:Menlo,'DejaVu Sans Mono',consolas,'Courier New',monospace\"></pre>\n"
      ],
      "text/plain": []
     },
     "metadata": {},
     "output_type": "display_data"
    },
    {
     "data": {
      "text/html": [
       "<pre style=\"white-space:pre;overflow-x:auto;line-height:normal;font-family:Menlo,'DejaVu Sans Mono',consolas,'Courier New',monospace\">\n",
       "</pre>\n"
      ],
      "text/plain": [
       "\n"
      ]
     },
     "metadata": {},
     "output_type": "display_data"
    },
    {
     "data": {
      "application/vnd.jupyter.widget-view+json": {
       "model_id": "7e46381630bc4691865091b00768f0d3",
       "version_major": 2,
       "version_minor": 0
      },
      "text/plain": [
       "Output()"
      ]
     },
     "metadata": {},
     "output_type": "display_data"
    },
    {
     "data": {
      "text/html": [
       "<pre style=\"white-space:pre;overflow-x:auto;line-height:normal;font-family:Menlo,'DejaVu Sans Mono',consolas,'Courier New',monospace\"></pre>\n"
      ],
      "text/plain": []
     },
     "metadata": {},
     "output_type": "display_data"
    },
    {
     "data": {
      "text/html": [
       "<pre style=\"white-space:pre;overflow-x:auto;line-height:normal;font-family:Menlo,'DejaVu Sans Mono',consolas,'Courier New',monospace\">\n",
       "</pre>\n"
      ],
      "text/plain": [
       "\n"
      ]
     },
     "metadata": {},
     "output_type": "display_data"
    },
    {
     "data": {
      "application/vnd.jupyter.widget-view+json": {
       "model_id": "1e4ad70ca4a446788cfbe5e1db4f708b",
       "version_major": 2,
       "version_minor": 0
      },
      "text/plain": [
       "Output()"
      ]
     },
     "metadata": {},
     "output_type": "display_data"
    },
    {
     "data": {
      "text/html": [
       "<pre style=\"white-space:pre;overflow-x:auto;line-height:normal;font-family:Menlo,'DejaVu Sans Mono',consolas,'Courier New',monospace\"></pre>\n"
      ],
      "text/plain": []
     },
     "metadata": {},
     "output_type": "display_data"
    },
    {
     "data": {
      "text/html": [
       "<pre style=\"white-space:pre;overflow-x:auto;line-height:normal;font-family:Menlo,'DejaVu Sans Mono',consolas,'Courier New',monospace\">\n",
       "</pre>\n"
      ],
      "text/plain": [
       "\n"
      ]
     },
     "metadata": {},
     "output_type": "display_data"
    },
    {
     "ename": "AttributeError",
     "evalue": "'SoccerMapComponent' object has no attribute 'offensive_model'",
     "output_type": "error",
     "traceback": [
      "\u001b[0;31m---------------------------------------------------------------------------\u001b[0m",
      "\u001b[0;31mAttributeError\u001b[0m                            Traceback (most recent call last)",
      "\u001b[0;32m<ipython-input-16-d1d013285a13>\u001b[0m in \u001b[0;36m<module>\u001b[0;34m\u001b[0m\n\u001b[0;32m----> 1\u001b[0;31m \u001b[0mdf_ratings\u001b[0m \u001b[0;34m=\u001b[0m \u001b[0mrater\u001b[0m\u001b[0;34m.\u001b[0m\u001b[0mrate\u001b[0m\u001b[0;34m(\u001b[0m\u001b[0mtest_db\u001b[0m\u001b[0;34m,\u001b[0m \u001b[0mdataset_test\u001b[0m\u001b[0;34m)\u001b[0m\u001b[0;34m\u001b[0m\u001b[0;34m\u001b[0m\u001b[0m\n\u001b[0m",
      "\u001b[0;32m~/un-xPass/unxpass/ratings.py\u001b[0m in \u001b[0;36mrate\u001b[0;34m(self, db, dataset)\u001b[0m\n\u001b[1;32m     81\u001b[0m \u001b[0;34m\u001b[0m\u001b[0m\n\u001b[1;32m     82\u001b[0m         \u001b[0;31m# get pass value\u001b[0m\u001b[0;34m\u001b[0m\u001b[0;34m\u001b[0m\u001b[0;34m\u001b[0m\u001b[0m\n\u001b[0;32m---> 83\u001b[0;31m         \u001b[0mdata_pass_value\u001b[0m \u001b[0;34m=\u001b[0m \u001b[0mself\u001b[0m\u001b[0;34m.\u001b[0m\u001b[0mpass_value_component\u001b[0m\u001b[0;34m.\u001b[0m\u001b[0moffensive_model\u001b[0m\u001b[0;34m.\u001b[0m\u001b[0minitialize_dataset\u001b[0m\u001b[0;34m(\u001b[0m\u001b[0mdataset\u001b[0m\u001b[0;34m)\u001b[0m\u001b[0;34m\u001b[0m\u001b[0;34m\u001b[0m\u001b[0m\n\u001b[0m\u001b[1;32m     84\u001b[0m         feat_true_pass_value_succes = data_pass_value.apply_overrides(\n\u001b[1;32m     85\u001b[0m             \u001b[0mdb\u001b[0m\u001b[0;34m,\u001b[0m\u001b[0;34m\u001b[0m\u001b[0;34m\u001b[0m\u001b[0m\n",
      "\u001b[0;31mAttributeError\u001b[0m: 'SoccerMapComponent' object has no attribute 'offensive_model'"
     ]
    }
   ],
   "source": [
    "df_ratings = rater.rate(test_db, dataset_test)"
   ]
  },
  {
   "cell_type": "code",
   "execution_count": null,
   "id": "66fbcb7a-6be9-4937-b21d-977b9439cbd9",
   "metadata": {},
   "outputs": [],
   "source": [
    "df_ratings.loc[SAMPLE]"
   ]
  }
 ],
 "metadata": {
  "kernelspec": {
   "display_name": "base",
   "language": "python",
   "name": "python3"
  },
  "language_info": {
   "codemirror_mode": {
    "name": "ipython",
    "version": 3
   },
   "file_extension": ".py",
   "mimetype": "text/x-python",
   "name": "python",
   "nbconvert_exporter": "python",
   "pygments_lexer": "ipython3",
   "version": "3.7.4"
  },
  "toc": {
   "base_numbering": 1,
   "nav_menu": {},
   "number_sections": true,
   "sideBar": true,
   "skip_h1_title": false,
   "title_cell": "Table of Contents",
   "title_sidebar": "Contents",
   "toc_cell": false,
   "toc_position": {
    "height": "calc(100% - 180px)",
    "left": "10px",
    "top": "150px",
    "width": "373.594px"
   },
   "toc_section_display": true,
   "toc_window_display": true
  }
 },
 "nbformat": 4,
 "nbformat_minor": 5
}
