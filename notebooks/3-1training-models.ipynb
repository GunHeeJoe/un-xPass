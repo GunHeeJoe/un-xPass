{
 "cells": [
  {
   "cell_type": "markdown",
   "id": "7ec948fe-5a7f-4803-a1a5-5f0e4ee9ca35",
   "metadata": {},
   "source": [
    "# Training models\n",
    "\n",
    "This notebook shows how to train a pass success model using XGBoost."
   ]
  },
  {
   "cell_type": "code",
   "execution_count": 1,
   "id": "bab7d6e1-e679-4e4b-a78f-1e3de6bc708a",
   "metadata": {},
   "outputs": [
    {
     "name": "stderr",
     "output_type": "stream",
     "text": [
      "/home/toc3/anaconda3/lib/python3.7/site-packages/requests/__init__.py:114: RequestsDependencyWarning: urllib3 (2.0.4) or chardet (3.0.4)/charset_normalizer (3.2.0) doesn't match a supported version!\n",
      "  RequestsDependencyWarning,\n"
     ]
    }
   ],
   "source": [
    "from pathlib import Path\n",
    "from functools import partial\n",
    "\n",
    "import pandas as pd\n",
    "import matplotlib.pyplot as plt\n",
    "\n",
    "import mlflow\n",
    "from xgboost import XGBClassifier\n",
    "import torch"
   ]
  },
  {
   "cell_type": "code",
   "execution_count": 2,
   "id": "d0dc077b-ebcb-44f9-bcc5-28b137cbb46f",
   "metadata": {
    "tags": []
   },
   "outputs": [],
   "source": [
    "%load_ext autoreload\n",
    "%autoreload 2"
   ]
  },
  {
   "cell_type": "code",
   "execution_count": 3,
   "id": "d228fb70",
   "metadata": {},
   "outputs": [],
   "source": [
    "import os, sys\n",
    "import tqdm\n",
    "sys.path.append(os.path.abspath(os.path.dirname(os.getcwd())))"
   ]
  },
  {
   "cell_type": "code",
   "execution_count": 4,
   "id": "11d7b3bb-0250-4edb-988f-14fb9dc5e306",
   "metadata": {
    "tags": []
   },
   "outputs": [
    {
     "name": "stderr",
     "output_type": "stream",
     "text": [
      "/home/toc3/anaconda3/lib/python3.7/site-packages/dask/dataframe/utils.py:14: FutureWarning: pandas.util.testing is deprecated. Use the functions in the public API at pandas.testing instead.\n",
      "  import pandas.util.testing as tm\n"
     ]
    }
   ],
   "source": [
    "from unxpass.databases import SQLiteDatabase\n",
    "from unxpass.datasets import PassesDataset\n",
    "from unxpass.components import pass_success, pass_selection\n",
    "from unxpass.components.utils import log_model, load_model, save_model\n",
    "from unxpass.visualization import plot_action"
   ]
  },
  {
   "cell_type": "markdown",
   "id": "23c35fb0-0853-4f44-8c27-6ab864e8faf0",
   "metadata": {},
   "source": [
    "## Load dataset"
   ]
  },
  {
   "cell_type": "markdown",
   "id": "f69d6869-4c8a-488d-a090-7edf103d057f",
   "metadata": {},
   "source": [
    "We assume you've already generated a training and test with all required features and labels. If not, you can do this from the command line with:\n",
    "\n",
    "```\n",
    "unxpass create-dataset \\\n",
    "  sqlite://$(pwd)/stores/database.sqlite \\\n",
    "  $(pwd)/stores/datasets/default/train \\\n",
    "  $(pwd)/config/dataset/train.yaml\n",
    "```\n",
    "\n",
    "```\n",
    "unxpass create-dataset \\\n",
    "  sqlite://$(pwd)/stores/database.sqlite \\\n",
    "  $(pwd)/stores/datasets/default/test \\\n",
    "  $(pwd)/config/dataset/test.yaml\n",
    "```\n",
    "\n",
    "Alternatively, the notebook titled \"2-computing-and-storing-features\" explains how to do this using the API."
   ]
  },
  {
   "cell_type": "markdown",
   "id": "8760430f",
   "metadata": {},
   "source": [
    "xGBoost는 train-test로만 split해놓으면 됨(XGBoostComponent) \\\n",
    "train코드 내에서 train-valid 나눈 다음 model.fit하므로"
   ]
  },
  {
   "cell_type": "markdown",
   "id": "7fc94cdb",
   "metadata": {},
   "source": [
    "SoccerMap는 train-valid-test split한 후 각 step하므로 3개로 분리해놓아야함"
   ]
  },
  {
   "cell_type": "code",
   "execution_count": 13,
   "id": "ca9dca7c",
   "metadata": {},
   "outputs": [],
   "source": [
    "train_DB_PATH = Path(\"../stores/train-database.sqlite\")\n",
    "train_db = SQLiteDatabase(train_DB_PATH)\n",
    "\n",
    "test_DB_PATH = Path(\"../stores/test-database.sqlite\")\n",
    "test_db = SQLiteDatabase(test_DB_PATH)"
   ]
  },
  {
   "cell_type": "code",
   "execution_count": 14,
   "id": "7005bd4d-1597-4979-90ba-b89958b346d4",
   "metadata": {
    "tags": []
   },
   "outputs": [],
   "source": [
    "STORES_FP = Path(\"../stores\")\n",
    "\n",
    "dataset_train = partial(PassesDataset, path=STORES_FP / \"datasets\" / \"default\" / \"train\")\n",
    "dataset_test = partial(PassesDataset, path=STORES_FP / \"datasets\" / \"default\" / \"test\")"
   ]
  },
  {
   "cell_type": "markdown",
   "id": "f06ec6ac-6e84-4fdc-8e7a-41a64defbd0f",
   "metadata": {
    "tags": []
   },
   "source": [
    "## Configure model\n",
    "\n",
    "Now we have to define the hyperparameters of the XGBoost model and the features to use. The features should be specified as a dictionary, where the key is the name of the feature generator and the values are the features that should be included (a generator can generate multiple features). The docstring of each feature generator provides details about the features it generates. Note that the suffix \"a0\" indicates that a feature is computed for the pass action, \"a1\" is the action before the pass, and so on."
   ]
  },
  {
   "cell_type": "code",
   "execution_count": 15,
   "id": "ecc13e93-e7b2-43da-ba38-5f9d5bfd7094",
   "metadata": {
    "tags": []
   },
   "outputs": [],
   "source": [
    "model = pass_success.XGBoostComponent(\n",
    "    model=XGBClassifier(\n",
    "        objective=\"binary:logistic\", \n",
    "        eval_metric=\"auc\"\n",
    "        # you probably want to do some hyperparameter tuning here to get a good model\n",
    "    ),\n",
    "    features={\n",
    "        'startpolar': [\n",
    "            'start_dist_to_goal_a0',\n",
    "            'start_angle_to_goal_a0'\n",
    "        ],\n",
    "        'relative_startlocation': [\n",
    "            'start_dist_goalline_a0',\n",
    "            'start_dist_sideline_a0'\n",
    "        ],\n",
    "        'endpolar': [\n",
    "            'end_dist_to_goal_a0',\n",
    "            'end_angle_to_goal_a0'\n",
    "        ],\n",
    "        'relative_endlocation': [\n",
    "            'end_dist_goalline_a0',\n",
    "            'end_dist_sideline_a0'\n",
    "        ],\n",
    "        'movement': [\n",
    "            'movement_a0',\n",
    "            'dx_a0',\n",
    "            'dy_a0'\n",
    "        ],\n",
    "        'angle': [\n",
    "            'angle_a0'\n",
    "        ],\n",
    "        'ball_height_onehot': [\n",
    "            'ball_height_ground_a0',\n",
    "            'ball_height_low_a0',\n",
    "            'ball_height_high_a0'\n",
    "        ],\n",
    "        'player_possession_time': [\n",
    "            'player_possession_time_a0'\n",
    "        ],\n",
    "        'speed': [\n",
    "            'speed_a01',\n",
    "            'speed_a02'\n",
    "        ],\n",
    "        'under_pressure': [\n",
    "            'under_pressure_a0'\n",
    "        ],\n",
    "        'dist_defender': [\n",
    "            'dist_defender_start_a0',\n",
    "            'dist_defender_end_a0',\n",
    "            'dist_defender_action_a0'\n",
    "        ],\n",
    "        'nb_opp_in_path': [\n",
    "            'nb_opp_in_path_a0'\n",
    "        ]\n",
    "    }, \n",
    ")"
   ]
  },
  {
   "cell_type": "markdown",
   "id": "391f6e21-5572-43f4-b7ef-b9b0d8890b46",
   "metadata": {},
   "source": [
    "## Train and test model"
   ]
  },
  {
   "cell_type": "code",
   "execution_count": 16,
   "id": "633b17e4-9b0b-4c89-849c-8d41f6c2b24d",
   "metadata": {
    "tags": []
   },
   "outputs": [
    {
     "data": {
      "text/html": [
       "<pre style=\"white-space:pre;overflow-x:auto;line-height:normal;font-family:Menlo,'DejaVu Sans Mono',consolas,'Courier New',monospace\"><span style=\"color: #7fbfbf; text-decoration-color: #7fbfbf\">[10/10/23 15:53:38] </span><span style=\"color: #000080; text-decoration-color: #000080\">INFO    </span> Fitting model on train set                                             <a href=\"file:///home/toc3/anaconda3/lib/python3.7/site-packages/lightning_utilities/core/rank_zero.py\" target=\"_blank\"><span style=\"color: #7f7f7f; text-decoration-color: #7f7f7f\">rank_zero.py</span></a><span style=\"color: #7f7f7f; text-decoration-color: #7f7f7f\">:</span><a href=\"file:///home/toc3/anaconda3/lib/python3.7/site-packages/lightning_utilities/core/rank_zero.py#32\" target=\"_blank\"><span style=\"color: #7f7f7f; text-decoration-color: #7f7f7f\">32</span></a>\n",
       "</pre>\n"
      ],
      "text/plain": [
       "\u001b[2;36m[10/10/23 15:53:38]\u001b[0m\u001b[2;36m \u001b[0m\u001b[34mINFO    \u001b[0m Fitting model on train set                                             \u001b]8;id=212015;file:///home/toc3/anaconda3/lib/python3.7/site-packages/lightning_utilities/core/rank_zero.py\u001b\\\u001b[2mrank_zero.py\u001b[0m\u001b]8;;\u001b\\\u001b[2m:\u001b[0m\u001b]8;id=915669;file:///home/toc3/anaconda3/lib/python3.7/site-packages/lightning_utilities/core/rank_zero.py#32\u001b\\\u001b[2m32\u001b[0m\u001b]8;;\u001b\\\n"
      ]
     },
     "metadata": {},
     "output_type": "display_data"
    },
    {
     "name": "stdout",
     "output_type": "stream",
     "text": [
      "[0]\tvalidation_0-auc:0.91235\n",
      "[1]\tvalidation_0-auc:0.91994\n",
      "[2]\tvalidation_0-auc:0.92723\n",
      "[3]\tvalidation_0-auc:0.92850\n",
      "[4]\tvalidation_0-auc:0.93117\n",
      "[5]\tvalidation_0-auc:0.93145\n",
      "[6]\tvalidation_0-auc:0.93119\n",
      "[7]\tvalidation_0-auc:0.93146\n",
      "[8]\tvalidation_0-auc:0.92952\n",
      "[9]\tvalidation_0-auc:0.93078\n",
      "[10]\tvalidation_0-auc:0.93007\n",
      "[11]\tvalidation_0-auc:0.93178\n",
      "[12]\tvalidation_0-auc:0.93230\n",
      "[13]\tvalidation_0-auc:0.93288\n",
      "[14]\tvalidation_0-auc:0.93126\n",
      "[15]\tvalidation_0-auc:0.93236\n",
      "[16]\tvalidation_0-auc:0.93260\n",
      "[17]\tvalidation_0-auc:0.93206\n",
      "[18]\tvalidation_0-auc:0.93155\n",
      "[19]\tvalidation_0-auc:0.93248\n",
      "[20]\tvalidation_0-auc:0.93207\n",
      "[21]\tvalidation_0-auc:0.93204\n",
      "[22]\tvalidation_0-auc:0.93205\n",
      "[23]\tvalidation_0-auc:0.93229\n",
      "[24]\tvalidation_0-auc:0.93202\n",
      "[25]\tvalidation_0-auc:0.93208\n",
      "[26]\tvalidation_0-auc:0.93218\n",
      "[27]\tvalidation_0-auc:0.93246\n",
      "[28]\tvalidation_0-auc:0.93231\n",
      "[29]\tvalidation_0-auc:0.93066\n",
      "[30]\tvalidation_0-auc:0.93070\n",
      "[31]\tvalidation_0-auc:0.93062\n",
      "[32]\tvalidation_0-auc:0.93016\n",
      "[33]\tvalidation_0-auc:0.92998\n",
      "[34]\tvalidation_0-auc:0.92988\n",
      "[35]\tvalidation_0-auc:0.92946\n",
      "[36]\tvalidation_0-auc:0.92860\n",
      "[37]\tvalidation_0-auc:0.92843\n",
      "[38]\tvalidation_0-auc:0.92676\n",
      "[39]\tvalidation_0-auc:0.92674\n",
      "[40]\tvalidation_0-auc:0.92675\n",
      "[41]\tvalidation_0-auc:0.92669\n",
      "[42]\tvalidation_0-auc:0.92542\n",
      "[43]\tvalidation_0-auc:0.92233\n",
      "[44]\tvalidation_0-auc:0.92221\n",
      "[45]\tvalidation_0-auc:0.92224\n",
      "[46]\tvalidation_0-auc:0.92215\n",
      "[47]\tvalidation_0-auc:0.92260\n",
      "[48]\tvalidation_0-auc:0.92210\n",
      "[49]\tvalidation_0-auc:0.92229\n",
      "[50]\tvalidation_0-auc:0.92172\n",
      "[51]\tvalidation_0-auc:0.92178\n",
      "[52]\tvalidation_0-auc:0.92185\n",
      "[53]\tvalidation_0-auc:0.92195\n",
      "[54]\tvalidation_0-auc:0.92216\n",
      "[55]\tvalidation_0-auc:0.92168\n",
      "[56]\tvalidation_0-auc:0.92178\n",
      "[57]\tvalidation_0-auc:0.92181\n",
      "[58]\tvalidation_0-auc:0.92183\n",
      "[59]\tvalidation_0-auc:0.92184\n",
      "[60]\tvalidation_0-auc:0.92214\n",
      "[61]\tvalidation_0-auc:0.92130\n",
      "[62]\tvalidation_0-auc:0.92110\n",
      "[63]\tvalidation_0-auc:0.92105\n",
      "[64]\tvalidation_0-auc:0.92129\n",
      "[65]\tvalidation_0-auc:0.92013\n",
      "[66]\tvalidation_0-auc:0.91780\n",
      "[67]\tvalidation_0-auc:0.91802\n",
      "[68]\tvalidation_0-auc:0.91787\n",
      "[69]\tvalidation_0-auc:0.91775\n",
      "[70]\tvalidation_0-auc:0.91807\n",
      "[71]\tvalidation_0-auc:0.91808\n",
      "[72]\tvalidation_0-auc:0.91811\n",
      "[73]\tvalidation_0-auc:0.91777\n",
      "[74]\tvalidation_0-auc:0.91729\n",
      "[75]\tvalidation_0-auc:0.91714\n",
      "[76]\tvalidation_0-auc:0.91730\n",
      "[77]\tvalidation_0-auc:0.91763\n",
      "[78]\tvalidation_0-auc:0.91765\n",
      "[79]\tvalidation_0-auc:0.91777\n",
      "[80]\tvalidation_0-auc:0.91736\n",
      "[81]\tvalidation_0-auc:0.91747\n",
      "[82]\tvalidation_0-auc:0.91795\n",
      "[83]\tvalidation_0-auc:0.91803\n",
      "[84]\tvalidation_0-auc:0.91769\n",
      "[85]\tvalidation_0-auc:0.91638\n",
      "[86]\tvalidation_0-auc:0.91621\n",
      "[87]\tvalidation_0-auc:0.91621\n",
      "[88]\tvalidation_0-auc:0.91636\n",
      "[89]\tvalidation_0-auc:0.91633\n",
      "[90]\tvalidation_0-auc:0.91616\n",
      "[91]\tvalidation_0-auc:0.91622\n",
      "[92]\tvalidation_0-auc:0.91635\n",
      "[93]\tvalidation_0-auc:0.91646\n",
      "[94]\tvalidation_0-auc:0.91648\n",
      "[95]\tvalidation_0-auc:0.91650\n",
      "[96]\tvalidation_0-auc:0.91646\n",
      "[97]\tvalidation_0-auc:0.91640\n",
      "[98]\tvalidation_0-auc:0.91643\n",
      "[99]\tvalidation_0-auc:0.91594\n"
     ]
    }
   ],
   "source": [
    "model.train(dataset_train)"
   ]
  },
  {
   "cell_type": "code",
   "execution_count": 11,
   "id": "70c093cc",
   "metadata": {},
   "outputs": [
    {
     "ename": "ValueError",
     "evalue": "could not determine the shape of object type 'DataFrame'",
     "output_type": "error",
     "traceback": [
      "\u001b[0;31m---------------------------------------------------------------------------\u001b[0m",
      "\u001b[0;31mValueError\u001b[0m                                Traceback (most recent call last)",
      "\u001b[0;32m<ipython-input-11-a99fdf8a0520>\u001b[0m in \u001b[0;36m<module>\u001b[0;34m\u001b[0m\n\u001b[0;32m----> 1\u001b[0;31m \u001b[0mmodel\u001b[0m\u001b[0;34m.\u001b[0m\u001b[0mtest\u001b[0m\u001b[0;34m(\u001b[0m\u001b[0mdataset_test\u001b[0m\u001b[0;34m)\u001b[0m\u001b[0;34m\u001b[0m\u001b[0;34m\u001b[0m\u001b[0m\n\u001b[0m",
      "\u001b[0;32m~/un-xPass/unxpass/components/base.py\u001b[0m in \u001b[0;36mtest\u001b[0;34m(self, dataset)\u001b[0m\n\u001b[1;32m    245\u001b[0m         \u001b[0;32melse\u001b[0m\u001b[0;34m:\u001b[0m\u001b[0;34m\u001b[0m\u001b[0;34m\u001b[0m\u001b[0m\n\u001b[1;32m    246\u001b[0m             \u001b[0;32mraise\u001b[0m \u001b[0mAttributeError\u001b[0m\u001b[0;34m(\u001b[0m\u001b[0;34mf\"Unsupported xgboost model: {type(self.model)}\"\u001b[0m\u001b[0;34m)\u001b[0m\u001b[0;34m\u001b[0m\u001b[0;34m\u001b[0m\u001b[0m\n\u001b[0;32m--> 247\u001b[0;31m         \u001b[0;32mreturn\u001b[0m \u001b[0mself\u001b[0m\u001b[0;34m.\u001b[0m\u001b[0m_get_metrics\u001b[0m\u001b[0;34m(\u001b[0m\u001b[0my_test\u001b[0m\u001b[0;34m,\u001b[0m \u001b[0my_hat\u001b[0m\u001b[0;34m)\u001b[0m\u001b[0;34m\u001b[0m\u001b[0;34m\u001b[0m\u001b[0m\n\u001b[0m\u001b[1;32m    248\u001b[0m \u001b[0;34m\u001b[0m\u001b[0m\n\u001b[1;32m    249\u001b[0m     \u001b[0;32mdef\u001b[0m \u001b[0mpredict\u001b[0m\u001b[0;34m(\u001b[0m\u001b[0mself\u001b[0m\u001b[0;34m,\u001b[0m \u001b[0mdataset\u001b[0m\u001b[0;34m)\u001b[0m \u001b[0;34m->\u001b[0m \u001b[0mpd\u001b[0m\u001b[0;34m.\u001b[0m\u001b[0mSeries\u001b[0m\u001b[0;34m:\u001b[0m\u001b[0;34m\u001b[0m\u001b[0;34m\u001b[0m\u001b[0m\n",
      "\u001b[0;32m~/un-xPass/unxpass/components/pass_success.py\u001b[0m in \u001b[0;36m_get_metrics\u001b[0;34m(self, y, y_hat)\u001b[0m\n\u001b[1;32m     48\u001b[0m         \u001b[0mbce_l1\u001b[0m \u001b[0;34m=\u001b[0m \u001b[0mBinaryCalibrationError\u001b[0m\u001b[0;34m(\u001b[0m\u001b[0mn_bins\u001b[0m\u001b[0;34m=\u001b[0m\u001b[0;36m10\u001b[0m\u001b[0;34m,\u001b[0m\u001b[0mnorm\u001b[0m\u001b[0;34m=\u001b[0m\u001b[0;34m'l1'\u001b[0m\u001b[0;34m)\u001b[0m\u001b[0;34m\u001b[0m\u001b[0;34m\u001b[0m\u001b[0m\n\u001b[1;32m     49\u001b[0m         \u001b[0mtensor_y_hat\u001b[0m \u001b[0;34m=\u001b[0m  \u001b[0mtorch\u001b[0m\u001b[0;34m.\u001b[0m\u001b[0mTensor\u001b[0m\u001b[0;34m(\u001b[0m\u001b[0my_hat\u001b[0m\u001b[0;34m)\u001b[0m\u001b[0;34m\u001b[0m\u001b[0;34m\u001b[0m\u001b[0m\n\u001b[0;32m---> 50\u001b[0;31m         \u001b[0mtensor_y\u001b[0m \u001b[0;34m=\u001b[0m  \u001b[0mtorch\u001b[0m\u001b[0;34m.\u001b[0m\u001b[0mTensor\u001b[0m\u001b[0;34m(\u001b[0m\u001b[0my\u001b[0m\u001b[0;34m)\u001b[0m\u001b[0;34m\u001b[0m\u001b[0;34m\u001b[0m\u001b[0m\n\u001b[0m\u001b[1;32m     51\u001b[0m \u001b[0;34m\u001b[0m\u001b[0m\n\u001b[1;32m     52\u001b[0m         \u001b[0msoccermap_ece\u001b[0m\u001b[0;34m,\u001b[0m \u001b[0mepv_ece\u001b[0m \u001b[0;34m=\u001b[0m \u001b[0mself\u001b[0m\u001b[0;34m.\u001b[0m\u001b[0mexpected_calibration_error\u001b[0m\u001b[0;34m(\u001b[0m\u001b[0my_hat\u001b[0m\u001b[0;34m,\u001b[0m\u001b[0my\u001b[0m\u001b[0;34m)\u001b[0m\u001b[0;34m\u001b[0m\u001b[0;34m\u001b[0m\u001b[0m\n",
      "\u001b[0;31mValueError\u001b[0m: could not determine the shape of object type 'DataFrame'"
     ]
    }
   ],
   "source": [
    "model.test(dataset_test)"
   ]
  },
  {
   "cell_type": "code",
   "execution_count": 11,
   "id": "4dcb5a1f",
   "metadata": {},
   "outputs": [
    {
     "name": "stderr",
     "output_type": "stream",
     "text": [
      "/home/toc3/anaconda3/lib/python3.7/site-packages/pytorch_lightning/trainer/connectors/accelerator_connector.py:479: LightningDeprecationWarning: Setting `Trainer(gpus=1)` is deprecated in v1.7 and will be removed in v2.0. Please use `Trainer(accelerator='gpu', devices=1)` instead.\n",
      "  f\"Setting `Trainer(gpus={gpus!r})` is deprecated in v1.7 and will be removed\"\n",
      "/home/toc3/anaconda3/lib/python3.7/site-packages/pytorch_lightning/trainer/connectors/accelerator_connector.py:590: LightningDeprecationWarning: The Trainer argument `auto_select_gpus` has been deprecated in v1.9.0 and will be removed in v2.0.0. Please use the function `pytorch_lightning.accelerators.find_usable_cuda_devices` instead.\n",
      "  \"The Trainer argument `auto_select_gpus` has been deprecated in v1.9.0 and will be removed in v2.0.0.\"\n",
      "Auto select gpus: [0]\n",
      "GPU available: True (cuda), used: True\n",
      "TPU available: False, using: 0 TPU cores\n",
      "IPU available: False, using: 0 IPUs\n",
      "HPU available: False, using: 0 HPUs\n"
     ]
    }
   ],
   "source": [
    "a = pass_success.SoccerMapComponent(\n",
    "    pass_success.PytorchSoccerMapModel()) "
   ]
  },
  {
   "cell_type": "code",
   "execution_count": 26,
   "id": "051de454",
   "metadata": {},
   "outputs": [
    {
     "data": {
      "text/plain": [
       "<unxpass.components.pass_success.SoccerMapComponent at 0x7f9aa7660fd0>"
      ]
     },
     "execution_count": 26,
     "metadata": {},
     "output_type": "execute_result"
    }
   ],
   "source": [
    "a"
   ]
  },
  {
   "cell_type": "code",
   "execution_count": 12,
   "id": "997deddf",
   "metadata": {},
   "outputs": [
    {
     "name": "stderr",
     "output_type": "stream",
     "text": [
      "LOCAL_RANK: 0 - CUDA_VISIBLE_DEVICES: [0,1]\n",
      "\n",
      "  | Name      | Type      | Params\n",
      "----------------------------------------\n",
      "0 | model     | SoccerMap | 275 K \n",
      "1 | sigmoid   | Sigmoid   | 0     \n",
      "2 | criterion | BCELoss   | 0     \n",
      "----------------------------------------\n",
      "275 K     Trainable params\n",
      "0         Non-trainable params\n",
      "275 K     Total params\n",
      "1.103     Total estimated model params size (MB)\n"
     ]
    },
    {
     "name": "stdout",
     "output_type": "stream",
     "text": [
      "subset sampler value counts : train:[3055, 23130] & valid:[1018, 7711]\n"
     ]
    },
    {
     "data": {
      "application/vnd.jupyter.widget-view+json": {
       "model_id": "3d71b04fb1bd4635bab260f4fa28810d",
       "version_major": 2,
       "version_minor": 0
      },
      "text/plain": [
       "Sanity Checking: 0it [00:00, ?it/s]"
      ]
     },
     "metadata": {},
     "output_type": "display_data"
    },
    {
     "data": {
      "application/vnd.jupyter.widget-view+json": {
       "model_id": "22701937419940c18064502ff362bfea",
       "version_major": 2,
       "version_minor": 0
      },
      "text/plain": [
       "Training: 0it [00:00, ?it/s]"
      ]
     },
     "metadata": {},
     "output_type": "display_data"
    },
    {
     "data": {
      "application/vnd.jupyter.widget-view+json": {
       "model_id": "eb6487aaee98485b90518f98001cafe0",
       "version_major": 2,
       "version_minor": 0
      },
      "text/plain": [
       "Validation: 0it [00:00, ?it/s]"
      ]
     },
     "metadata": {},
     "output_type": "display_data"
    },
    {
     "name": "stderr",
     "output_type": "stream",
     "text": [
      "`Trainer.fit` stopped: `max_epochs=1` reached.\n"
     ]
    }
   ],
   "source": [
    "a.train(dataset_train)"
   ]
  },
  {
   "cell_type": "code",
   "execution_count": 13,
   "id": "7968360e",
   "metadata": {},
   "outputs": [
    {
     "data": {
      "text/plain": [
       "<unxpass.components.pass_success.SoccerMapComponent at 0x7f23f50d8c90>"
      ]
     },
     "execution_count": 13,
     "metadata": {},
     "output_type": "execute_result"
    }
   ],
   "source": [
    "a"
   ]
  },
  {
   "cell_type": "code",
   "execution_count": 33,
   "id": "3ed83fa4",
   "metadata": {},
   "outputs": [],
   "source": [
    "import joblib"
   ]
  },
  {
   "cell_type": "code",
   "execution_count": 35,
   "id": "4b5ca0ef",
   "metadata": {},
   "outputs": [
    {
     "ename": "NameError",
     "evalue": "name 'joblib' is not defined",
     "output_type": "error",
     "traceback": [
      "\u001b[0;31m---------------------------------------------------------------------------\u001b[0m",
      "\u001b[0;31mNameError\u001b[0m                                 Traceback (most recent call last)",
      "\u001b[0;32m<ipython-input-35-855f261a0dd8>\u001b[0m in \u001b[0;36m<module>\u001b[0;34m\u001b[0m\n\u001b[1;32m      1\u001b[0m \u001b[0;32mwith\u001b[0m \u001b[0mopen\u001b[0m\u001b[0;34m(\u001b[0m\u001b[0;34m'./Pretrained_model/soccer_map_component.pkl'\u001b[0m\u001b[0;34m,\u001b[0m \u001b[0;34m'wb'\u001b[0m\u001b[0;34m)\u001b[0m \u001b[0;32mas\u001b[0m \u001b[0mfile\u001b[0m\u001b[0;34m:\u001b[0m\u001b[0;34m\u001b[0m\u001b[0;34m\u001b[0m\u001b[0m\n\u001b[0;32m----> 2\u001b[0;31m     \u001b[0mjoblib\u001b[0m\u001b[0;34m.\u001b[0m\u001b[0mdump\u001b[0m\u001b[0;34m(\u001b[0m\u001b[0ma\u001b[0m\u001b[0;34m,\u001b[0m \u001b[0mfile\u001b[0m\u001b[0;34m)\u001b[0m\u001b[0;34m\u001b[0m\u001b[0;34m\u001b[0m\u001b[0m\n\u001b[0m",
      "\u001b[0;31mNameError\u001b[0m: name 'joblib' is not defined"
     ]
    }
   ],
   "source": [
    "with open('./Pretrained_model/soccer_map_component.pkl', 'wb') as file:\n",
    "    joblib.dump(a, file)"
   ]
  },
  {
   "cell_type": "code",
   "execution_count": 20,
   "id": "6a01a02b",
   "metadata": {},
   "outputs": [
    {
     "name": "stderr",
     "output_type": "stream",
     "text": [
      "pass success model testing: 100%|██████████| 284/284 [01:31<00:00,  3.09it/s]\n"
     ]
    }
   ],
   "source": [
    "result = a.test(dataset_test)"
   ]
  },
  {
   "cell_type": "code",
   "execution_count": 27,
   "id": "de97e54a",
   "metadata": {},
   "outputs": [],
   "source": [
    "from pathlib import Path"
   ]
  },
  {
   "cell_type": "code",
   "execution_count": 29,
   "id": "c4cdff5a",
   "metadata": {},
   "outputs": [
    {
     "ename": "AttributeError",
     "evalue": "Can't pickle local object 'intended.<locals>._wrapper'",
     "output_type": "error",
     "traceback": [
      "\u001b[0;31m---------------------------------------------------------------------------\u001b[0m",
      "\u001b[0;31mAttributeError\u001b[0m                            Traceback (most recent call last)",
      "\u001b[0;32m<ipython-input-29-2da893b76c39>\u001b[0m in \u001b[0;36m<module>\u001b[0;34m\u001b[0m\n\u001b[0;32m----> 1\u001b[0;31m \u001b[0ma\u001b[0m\u001b[0;34m.\u001b[0m\u001b[0msave\u001b[0m\u001b[0;34m(\u001b[0m\u001b[0mpath\u001b[0m\u001b[0;34m=\u001b[0m\u001b[0mPath\u001b[0m\u001b[0;34m(\u001b[0m\u001b[0;34m'./Pretrained_model/pass_success_component.pkl'\u001b[0m\u001b[0;34m)\u001b[0m\u001b[0;34m)\u001b[0m\u001b[0;34m\u001b[0m\u001b[0;34m\u001b[0m\u001b[0m\n\u001b[0m",
      "\u001b[0;32m~/un-xPass/unxpass/components/base.py\u001b[0m in \u001b[0;36msave\u001b[0;34m(self, path)\u001b[0m\n\u001b[1;32m     61\u001b[0m \u001b[0;34m\u001b[0m\u001b[0m\n\u001b[1;32m     62\u001b[0m     \u001b[0;32mdef\u001b[0m \u001b[0msave\u001b[0m\u001b[0;34m(\u001b[0m\u001b[0mself\u001b[0m\u001b[0;34m,\u001b[0m \u001b[0mpath\u001b[0m\u001b[0;34m:\u001b[0m \u001b[0mPath\u001b[0m\u001b[0;34m)\u001b[0m\u001b[0;34m:\u001b[0m\u001b[0;34m\u001b[0m\u001b[0;34m\u001b[0m\u001b[0m\n\u001b[0;32m---> 63\u001b[0;31m         \u001b[0mpickle\u001b[0m\u001b[0;34m.\u001b[0m\u001b[0mdump\u001b[0m\u001b[0;34m(\u001b[0m\u001b[0mself\u001b[0m\u001b[0;34m,\u001b[0m \u001b[0mpath\u001b[0m\u001b[0;34m.\u001b[0m\u001b[0mopen\u001b[0m\u001b[0;34m(\u001b[0m\u001b[0mmode\u001b[0m\u001b[0;34m=\u001b[0m\u001b[0;34m\"wb\"\u001b[0m\u001b[0;34m)\u001b[0m\u001b[0;34m)\u001b[0m\u001b[0;34m\u001b[0m\u001b[0;34m\u001b[0m\u001b[0m\n\u001b[0m\u001b[1;32m     64\u001b[0m \u001b[0;34m\u001b[0m\u001b[0m\n\u001b[1;32m     65\u001b[0m     \u001b[0;34m@\u001b[0m\u001b[0mclassmethod\u001b[0m\u001b[0;34m\u001b[0m\u001b[0;34m\u001b[0m\u001b[0m\n",
      "\u001b[0;31mAttributeError\u001b[0m: Can't pickle local object 'intended.<locals>._wrapper'"
     ]
    }
   ],
   "source": [
    "a.save(path=Path('./Pretrained_model/pass_success_component.pkl'))"
   ]
  },
  {
   "cell_type": "code",
   "execution_count": 31,
   "id": "d5122ba8",
   "metadata": {},
   "outputs": [
    {
     "data": {
      "text/plain": [
       "PytorchSoccerMapModel(\n",
       "  (model): SoccerMap(\n",
       "    (features_x1): _FeatureExtractionLayer(\n",
       "      (conv_1): Conv2d(15, 32, kernel_size=(5, 5), stride=(1, 1), padding=valid)\n",
       "      (conv_2): Conv2d(32, 64, kernel_size=(5, 5), stride=(1, 1), padding=valid)\n",
       "      (symmetric_padding): ReplicationPad2d((2, 2, 2, 2))\n",
       "    )\n",
       "    (features_x2): _FeatureExtractionLayer(\n",
       "      (conv_1): Conv2d(64, 32, kernel_size=(5, 5), stride=(1, 1), padding=valid)\n",
       "      (conv_2): Conv2d(32, 64, kernel_size=(5, 5), stride=(1, 1), padding=valid)\n",
       "      (symmetric_padding): ReplicationPad2d((2, 2, 2, 2))\n",
       "    )\n",
       "    (features_x4): _FeatureExtractionLayer(\n",
       "      (conv_1): Conv2d(64, 32, kernel_size=(5, 5), stride=(1, 1), padding=valid)\n",
       "      (conv_2): Conv2d(32, 64, kernel_size=(5, 5), stride=(1, 1), padding=valid)\n",
       "      (symmetric_padding): ReplicationPad2d((2, 2, 2, 2))\n",
       "    )\n",
       "    (up_x2): _UpSamplingLayer(\n",
       "      (up): UpsamplingNearest2d(scale_factor=2.0, mode=nearest)\n",
       "      (conv1): Conv2d(1, 32, kernel_size=(3, 3), stride=(1, 1), padding=valid)\n",
       "      (conv2): Conv2d(32, 1, kernel_size=(3, 3), stride=(1, 1), padding=valid)\n",
       "      (symmetric_padding): ReplicationPad2d((1, 1, 1, 1))\n",
       "    )\n",
       "    (up_x4): _UpSamplingLayer(\n",
       "      (up): UpsamplingNearest2d(scale_factor=2.0, mode=nearest)\n",
       "      (conv1): Conv2d(1, 32, kernel_size=(3, 3), stride=(1, 1), padding=valid)\n",
       "      (conv2): Conv2d(32, 1, kernel_size=(3, 3), stride=(1, 1), padding=valid)\n",
       "      (symmetric_padding): ReplicationPad2d((1, 1, 1, 1))\n",
       "    )\n",
       "    (down_x2): MaxPool2d(kernel_size=(2, 2), stride=(2, 2), padding=0, dilation=1, ceil_mode=False)\n",
       "    (down_x4): MaxPool2d(kernel_size=(2, 2), stride=(2, 2), padding=0, dilation=1, ceil_mode=False)\n",
       "    (fusion_x2_x4): _FusionLayer(\n",
       "      (conv): Conv2d(2, 1, kernel_size=(1, 1), stride=(1, 1))\n",
       "    )\n",
       "    (fusion_x1_x2): _FusionLayer(\n",
       "      (conv): Conv2d(2, 1, kernel_size=(1, 1), stride=(1, 1))\n",
       "    )\n",
       "    (prediction_x1): _PredictionLayer(\n",
       "      (conv1): Conv2d(64, 32, kernel_size=(1, 1), stride=(1, 1))\n",
       "      (conv2): Conv2d(32, 1, kernel_size=(1, 1), stride=(1, 1))\n",
       "    )\n",
       "    (prediction_x2): _PredictionLayer(\n",
       "      (conv1): Conv2d(64, 32, kernel_size=(1, 1), stride=(1, 1))\n",
       "      (conv2): Conv2d(32, 1, kernel_size=(1, 1), stride=(1, 1))\n",
       "    )\n",
       "    (prediction_x4): _PredictionLayer(\n",
       "      (conv1): Conv2d(64, 32, kernel_size=(1, 1), stride=(1, 1))\n",
       "      (conv2): Conv2d(32, 1, kernel_size=(1, 1), stride=(1, 1))\n",
       "    )\n",
       "  )\n",
       "  (sigmoid): Sigmoid()\n",
       "  (criterion): BCELoss()\n",
       ")"
      ]
     },
     "execution_count": 31,
     "metadata": {},
     "output_type": "execute_result"
    }
   ],
   "source": [
    "a.pr"
   ]
  },
  {
   "cell_type": "code",
   "execution_count": 14,
   "id": "170955b6",
   "metadata": {},
   "outputs": [
    {
     "ename": "AttributeError",
     "evalue": "Can't pickle local object 'intended.<locals>._wrapper'",
     "output_type": "error",
     "traceback": [
      "\u001b[0;31m---------------------------------------------------------------------------\u001b[0m",
      "\u001b[0;31mAttributeError\u001b[0m                            Traceback (most recent call last)",
      "\u001b[0;32m<ipython-input-14-53fe4868df0e>\u001b[0m in \u001b[0;36m<module>\u001b[0;34m\u001b[0m\n\u001b[1;32m      1\u001b[0m \u001b[0mmlflow\u001b[0m\u001b[0;34m.\u001b[0m\u001b[0mset_experiment\u001b[0m\u001b[0;34m(\u001b[0m\u001b[0mexperiment_name\u001b[0m\u001b[0;34m=\u001b[0m\u001b[0;34m\"pass_success/threesixty\"\u001b[0m\u001b[0;34m)\u001b[0m\u001b[0;34m\u001b[0m\u001b[0;34m\u001b[0m\u001b[0m\n\u001b[0;32m----> 2\u001b[0;31m \u001b[0mmodelinfo\u001b[0m \u001b[0;34m=\u001b[0m \u001b[0mlog_model\u001b[0m\u001b[0;34m(\u001b[0m\u001b[0ma\u001b[0m\u001b[0;34m,\u001b[0m \u001b[0martifact_path\u001b[0m\u001b[0;34m=\u001b[0m\u001b[0;34m\"component\"\u001b[0m\u001b[0;34m)\u001b[0m\u001b[0;34m\u001b[0m\u001b[0;34m\u001b[0m\u001b[0m\n\u001b[0m\u001b[1;32m      3\u001b[0m \u001b[0mprint\u001b[0m\u001b[0;34m(\u001b[0m\u001b[0;34mf\"Model saved as {modelinfo.model_uri}\"\u001b[0m\u001b[0;34m)\u001b[0m\u001b[0;34m\u001b[0m\u001b[0;34m\u001b[0m\u001b[0m\n\u001b[1;32m      4\u001b[0m \u001b[0mb\u001b[0m \u001b[0;34m=\u001b[0m \u001b[0mload_model\u001b[0m\u001b[0;34m(\u001b[0m\u001b[0mmodelinfo\u001b[0m\u001b[0;34m.\u001b[0m\u001b[0mmodel_uri\u001b[0m\u001b[0;34m)\u001b[0m\u001b[0;34m\u001b[0m\u001b[0;34m\u001b[0m\u001b[0m\n\u001b[1;32m      5\u001b[0m \u001b[0mprint\u001b[0m\u001b[0;34m(\u001b[0m\u001b[0mb\u001b[0m\u001b[0;34m)\u001b[0m\u001b[0;34m\u001b[0m\u001b[0;34m\u001b[0m\u001b[0m\n",
      "\u001b[0;32m~/un-xPass/unxpass/components/utils.py\u001b[0m in \u001b[0;36mlog_model\u001b[0;34m(model, artifact_path, **kwargs)\u001b[0m\n\u001b[1;32m     83\u001b[0m         \u001b[0;31m# pip_requirements=pip_requirements,\u001b[0m\u001b[0;34m\u001b[0m\u001b[0;34m\u001b[0m\u001b[0;34m\u001b[0m\u001b[0m\n\u001b[1;32m     84\u001b[0m         \u001b[0;31m# extra_pip_requirements=extra_pip_requirements,\u001b[0m\u001b[0;34m\u001b[0m\u001b[0;34m\u001b[0m\u001b[0;34m\u001b[0m\u001b[0m\n\u001b[0;32m---> 85\u001b[0;31m         \u001b[0;34m**\u001b[0m\u001b[0mkwargs\u001b[0m\u001b[0;34m,\u001b[0m\u001b[0;34m\u001b[0m\u001b[0;34m\u001b[0m\u001b[0m\n\u001b[0m\u001b[1;32m     86\u001b[0m     )\n",
      "\u001b[0;32m~/anaconda3/lib/python3.7/site-packages/mlflow/models/model.py\u001b[0m in \u001b[0;36mlog\u001b[0;34m(cls, artifact_path, flavor, registered_model_name, await_registration_for, **kwargs)\u001b[0m\n\u001b[1;32m    371\u001b[0m             \u001b[0mrun_id\u001b[0m \u001b[0;34m=\u001b[0m \u001b[0mmlflow\u001b[0m\u001b[0;34m.\u001b[0m\u001b[0mtracking\u001b[0m\u001b[0;34m.\u001b[0m\u001b[0mfluent\u001b[0m\u001b[0;34m.\u001b[0m\u001b[0m_get_or_start_run\u001b[0m\u001b[0;34m(\u001b[0m\u001b[0;34m)\u001b[0m\u001b[0;34m.\u001b[0m\u001b[0minfo\u001b[0m\u001b[0;34m.\u001b[0m\u001b[0mrun_id\u001b[0m\u001b[0;34m\u001b[0m\u001b[0;34m\u001b[0m\u001b[0m\n\u001b[1;32m    372\u001b[0m             \u001b[0mmlflow_model\u001b[0m \u001b[0;34m=\u001b[0m \u001b[0mcls\u001b[0m\u001b[0;34m(\u001b[0m\u001b[0martifact_path\u001b[0m\u001b[0;34m=\u001b[0m\u001b[0martifact_path\u001b[0m\u001b[0;34m,\u001b[0m \u001b[0mrun_id\u001b[0m\u001b[0;34m=\u001b[0m\u001b[0mrun_id\u001b[0m\u001b[0;34m)\u001b[0m\u001b[0;34m\u001b[0m\u001b[0;34m\u001b[0m\u001b[0m\n\u001b[0;32m--> 373\u001b[0;31m             \u001b[0mflavor\u001b[0m\u001b[0;34m.\u001b[0m\u001b[0msave_model\u001b[0m\u001b[0;34m(\u001b[0m\u001b[0mpath\u001b[0m\u001b[0;34m=\u001b[0m\u001b[0mlocal_path\u001b[0m\u001b[0;34m,\u001b[0m \u001b[0mmlflow_model\u001b[0m\u001b[0;34m=\u001b[0m\u001b[0mmlflow_model\u001b[0m\u001b[0;34m,\u001b[0m \u001b[0;34m**\u001b[0m\u001b[0mkwargs\u001b[0m\u001b[0;34m)\u001b[0m\u001b[0;34m\u001b[0m\u001b[0;34m\u001b[0m\u001b[0m\n\u001b[0m\u001b[1;32m    374\u001b[0m             \u001b[0mmlflow\u001b[0m\u001b[0;34m.\u001b[0m\u001b[0mtracking\u001b[0m\u001b[0;34m.\u001b[0m\u001b[0mfluent\u001b[0m\u001b[0;34m.\u001b[0m\u001b[0mlog_artifacts\u001b[0m\u001b[0;34m(\u001b[0m\u001b[0mlocal_path\u001b[0m\u001b[0;34m,\u001b[0m \u001b[0mmlflow_model\u001b[0m\u001b[0;34m.\u001b[0m\u001b[0martifact_path\u001b[0m\u001b[0;34m)\u001b[0m\u001b[0;34m\u001b[0m\u001b[0;34m\u001b[0m\u001b[0m\n\u001b[1;32m    375\u001b[0m             \u001b[0;32mtry\u001b[0m\u001b[0;34m:\u001b[0m\u001b[0;34m\u001b[0m\u001b[0;34m\u001b[0m\u001b[0m\n",
      "\u001b[0;32m~/un-xPass/unxpass/components/utils.py\u001b[0m in \u001b[0;36msave_model\u001b[0;34m(component, path, mlflow_model)\u001b[0m\n\u001b[1;32m     48\u001b[0m     )\n\u001b[1;32m     49\u001b[0m     \u001b[0mmlflow_model\u001b[0m\u001b[0;34m.\u001b[0m\u001b[0msave\u001b[0m\u001b[0;34m(\u001b[0m\u001b[0mmlflow_mlmodel_file_path\u001b[0m\u001b[0;34m)\u001b[0m\u001b[0;34m\u001b[0m\u001b[0;34m\u001b[0m\u001b[0m\n\u001b[0;32m---> 50\u001b[0;31m     \u001b[0mcomponent\u001b[0m\u001b[0;34m.\u001b[0m\u001b[0msave\u001b[0m\u001b[0;34m(\u001b[0m\u001b[0mmodel_subpath\u001b[0m\u001b[0;34m)\u001b[0m\u001b[0;34m\u001b[0m\u001b[0;34m\u001b[0m\u001b[0m\n\u001b[0m\u001b[1;32m     51\u001b[0m \u001b[0;34m\u001b[0m\u001b[0m\n\u001b[1;32m     52\u001b[0m \u001b[0;34m\u001b[0m\u001b[0m\n",
      "\u001b[0;32m~/un-xPass/unxpass/components/base.py\u001b[0m in \u001b[0;36msave\u001b[0;34m(self, path)\u001b[0m\n\u001b[1;32m     61\u001b[0m \u001b[0;34m\u001b[0m\u001b[0m\n\u001b[1;32m     62\u001b[0m     \u001b[0;32mdef\u001b[0m \u001b[0msave\u001b[0m\u001b[0;34m(\u001b[0m\u001b[0mself\u001b[0m\u001b[0;34m,\u001b[0m \u001b[0mpath\u001b[0m\u001b[0;34m:\u001b[0m \u001b[0mPath\u001b[0m\u001b[0;34m)\u001b[0m\u001b[0;34m:\u001b[0m\u001b[0;34m\u001b[0m\u001b[0;34m\u001b[0m\u001b[0m\n\u001b[0;32m---> 63\u001b[0;31m         \u001b[0mpickle\u001b[0m\u001b[0;34m.\u001b[0m\u001b[0mdump\u001b[0m\u001b[0;34m(\u001b[0m\u001b[0mself\u001b[0m\u001b[0;34m,\u001b[0m \u001b[0mpath\u001b[0m\u001b[0;34m.\u001b[0m\u001b[0mopen\u001b[0m\u001b[0;34m(\u001b[0m\u001b[0mmode\u001b[0m\u001b[0;34m=\u001b[0m\u001b[0;34m\"wb\"\u001b[0m\u001b[0;34m)\u001b[0m\u001b[0;34m)\u001b[0m\u001b[0;34m\u001b[0m\u001b[0;34m\u001b[0m\u001b[0m\n\u001b[0m\u001b[1;32m     64\u001b[0m \u001b[0;34m\u001b[0m\u001b[0m\n\u001b[1;32m     65\u001b[0m     \u001b[0;34m@\u001b[0m\u001b[0mclassmethod\u001b[0m\u001b[0;34m\u001b[0m\u001b[0;34m\u001b[0m\u001b[0m\n",
      "\u001b[0;31mAttributeError\u001b[0m: Can't pickle local object 'intended.<locals>._wrapper'"
     ]
    }
   ],
   "source": [
    "mlflow.set_experiment(experiment_name=\"pass_success/threesixty\")\n",
    "modelinfo = log_model(a, artifact_path=\"component\")\n",
    "print(f\"Model saved as {modelinfo.model_uri}\")\n",
    "b = load_model(modelinfo.model_uri)\n",
    "print(b)"
   ]
  },
  {
   "cell_type": "code",
   "execution_count": 10,
   "id": "8de288c7-ddf5-4607-82f3-6bbb1f1b0b74",
   "metadata": {
    "tags": []
   },
   "outputs": [
    {
     "name": "stderr",
     "output_type": "stream",
     "text": [
      "2023/10/03 15:14:32 INFO mlflow.tracking.fluent: Experiment with name 'pass_success/threesixty' does not exist. Creating a new experiment.\n"
     ]
    },
    {
     "name": "stdout",
     "output_type": "stream",
     "text": [
      "Model saved as runs:/c3d2602a67b345ef823e05427a8e373e/component\n"
     ]
    }
   ],
   "source": [
    "# You can now log the model in the MLFflow registry\n",
    "mlflow.set_experiment(experiment_name=\"pass_success/threesixty\")\n",
    "modelinfo = log_model(model, artifact_path=\"component\")\n",
    "print(f\"Model saved as {modelinfo.model_uri}\")"
   ]
  },
  {
   "cell_type": "code",
   "execution_count": 11,
   "id": "64bbd163",
   "metadata": {},
   "outputs": [
    {
     "data": {
      "text/plain": [
       "<mlflow.models.model.ModelInfo at 0x7f9b6e13c450>"
      ]
     },
     "execution_count": 11,
     "metadata": {},
     "output_type": "execute_result"
    }
   ],
   "source": [
    "modelinfo"
   ]
  },
  {
   "cell_type": "code",
   "execution_count": 12,
   "id": "9fc0eee9",
   "metadata": {},
   "outputs": [
    {
     "data": {
      "text/plain": [
       "'runs:/c3d2602a67b345ef823e05427a8e373e/component'"
      ]
     },
     "execution_count": 12,
     "metadata": {},
     "output_type": "execute_result"
    }
   ],
   "source": [
    "modelinfo.model_uri"
   ]
  },
  {
   "cell_type": "code",
   "execution_count": 14,
   "id": "ec3a4897-2715-4a18-8321-5a492f350bf0",
   "metadata": {
    "tags": []
   },
   "outputs": [],
   "source": [
    "# Then you can reload it later\n",
    "# model = load_model(\"runs:/1353b9d8d56e4cdc843719f70aab0c4c/component\")\n",
    "model = load_model(modelinfo.model_uri)"
   ]
  },
  {
   "cell_type": "code",
   "execution_count": 15,
   "id": "1abaa9ec",
   "metadata": {},
   "outputs": [
    {
     "data": {
      "text/plain": [
       "<unxpass.components.pass_success.XGBoostComponent at 0x7f9aa7aacfd0>"
      ]
     },
     "execution_count": 15,
     "metadata": {},
     "output_type": "execute_result"
    }
   ],
   "source": [
    "model"
   ]
  },
  {
   "cell_type": "code",
   "execution_count": 19,
   "id": "facebbb7",
   "metadata": {},
   "outputs": [],
   "source": [
    "save_model(model, path='./Pretrained_model/a')"
   ]
  },
  {
   "cell_type": "code",
   "execution_count": 21,
   "id": "3a56756c",
   "metadata": {},
   "outputs": [
    {
     "data": {
      "text/plain": [
       "<unxpass.components.pass_success.XGBoostComponent at 0x7f9aedfc18d0>"
      ]
     },
     "execution_count": 21,
     "metadata": {},
     "output_type": "execute_result"
    }
   ],
   "source": [
    "load_model('./Pretrained_model/a')"
   ]
  },
  {
   "cell_type": "code",
   "execution_count": 16,
   "id": "f6a98e5d-9afe-4936-af18-d849186a5265",
   "metadata": {
    "tags": []
   },
   "outputs": [
    {
     "ename": "ValueError",
     "evalue": "could not determine the shape of object type 'DataFrame'",
     "output_type": "error",
     "traceback": [
      "\u001b[0;31m---------------------------------------------------------------------------\u001b[0m",
      "\u001b[0;31mValueError\u001b[0m                                Traceback (most recent call last)",
      "\u001b[0;32m<ipython-input-16-a60458467e8c>\u001b[0m in \u001b[0;36m<module>\u001b[0;34m\u001b[0m\n\u001b[1;32m      1\u001b[0m \u001b[0;31m# Next, evaluate how the model performs on a test set\u001b[0m\u001b[0;34m\u001b[0m\u001b[0;34m\u001b[0m\u001b[0;34m\u001b[0m\u001b[0m\n\u001b[0;32m----> 2\u001b[0;31m \u001b[0mmodel\u001b[0m\u001b[0;34m.\u001b[0m\u001b[0mtest\u001b[0m\u001b[0;34m(\u001b[0m\u001b[0mdataset_test\u001b[0m\u001b[0;34m)\u001b[0m\u001b[0;34m\u001b[0m\u001b[0;34m\u001b[0m\u001b[0m\n\u001b[0m",
      "\u001b[0;32m~/un-xPass/unxpass/components/base.py\u001b[0m in \u001b[0;36mtest\u001b[0;34m(self, dataset)\u001b[0m\n\u001b[1;32m    245\u001b[0m         \u001b[0;31m# else:\u001b[0m\u001b[0;34m\u001b[0m\u001b[0;34m\u001b[0m\u001b[0;34m\u001b[0m\u001b[0m\n\u001b[1;32m    246\u001b[0m         \u001b[0;31m#     raise AttributeError(f\"Unsupported xgboost model: {type(self.model)}\")\u001b[0m\u001b[0;34m\u001b[0m\u001b[0;34m\u001b[0m\u001b[0;34m\u001b[0m\u001b[0m\n\u001b[0;32m--> 247\u001b[0;31m         \u001b[0;32mreturn\u001b[0m \u001b[0mself\u001b[0m\u001b[0;34m.\u001b[0m\u001b[0m_get_metrics\u001b[0m\u001b[0;34m(\u001b[0m\u001b[0my_test\u001b[0m\u001b[0;34m,\u001b[0m \u001b[0my_hat\u001b[0m\u001b[0;34m)\u001b[0m\u001b[0;34m\u001b[0m\u001b[0;34m\u001b[0m\u001b[0m\n\u001b[0m\u001b[1;32m    248\u001b[0m \u001b[0;34m\u001b[0m\u001b[0m\n\u001b[1;32m    249\u001b[0m     \u001b[0;32mdef\u001b[0m \u001b[0mpredict\u001b[0m\u001b[0;34m(\u001b[0m\u001b[0mself\u001b[0m\u001b[0;34m,\u001b[0m \u001b[0mdataset\u001b[0m\u001b[0;34m)\u001b[0m \u001b[0;34m->\u001b[0m \u001b[0mpd\u001b[0m\u001b[0;34m.\u001b[0m\u001b[0mSeries\u001b[0m\u001b[0;34m:\u001b[0m\u001b[0;34m\u001b[0m\u001b[0;34m\u001b[0m\u001b[0m\n",
      "\u001b[0;32m~/un-xPass/unxpass/components/pass_success.py\u001b[0m in \u001b[0;36m_get_metrics\u001b[0;34m(self, y, y_hat)\u001b[0m\n\u001b[1;32m     47\u001b[0m         \u001b[0mbce_l1\u001b[0m \u001b[0;34m=\u001b[0m \u001b[0mBinaryCalibrationError\u001b[0m\u001b[0;34m(\u001b[0m\u001b[0mn_bins\u001b[0m\u001b[0;34m=\u001b[0m\u001b[0;36m10\u001b[0m\u001b[0;34m,\u001b[0m\u001b[0mnorm\u001b[0m\u001b[0;34m=\u001b[0m\u001b[0;34m'l1'\u001b[0m\u001b[0;34m)\u001b[0m\u001b[0;34m\u001b[0m\u001b[0;34m\u001b[0m\u001b[0m\n\u001b[1;32m     48\u001b[0m         \u001b[0mtensor_y_hat\u001b[0m \u001b[0;34m=\u001b[0m  \u001b[0mtorch\u001b[0m\u001b[0;34m.\u001b[0m\u001b[0mTensor\u001b[0m\u001b[0;34m(\u001b[0m\u001b[0my_hat\u001b[0m\u001b[0;34m)\u001b[0m\u001b[0;34m\u001b[0m\u001b[0;34m\u001b[0m\u001b[0m\n\u001b[0;32m---> 49\u001b[0;31m         \u001b[0mtensor_y\u001b[0m \u001b[0;34m=\u001b[0m  \u001b[0mtorch\u001b[0m\u001b[0;34m.\u001b[0m\u001b[0mTensor\u001b[0m\u001b[0;34m(\u001b[0m\u001b[0my\u001b[0m\u001b[0;34m)\u001b[0m\u001b[0;34m\u001b[0m\u001b[0;34m\u001b[0m\u001b[0m\n\u001b[0m\u001b[1;32m     50\u001b[0m \u001b[0;34m\u001b[0m\u001b[0m\n\u001b[1;32m     51\u001b[0m         \u001b[0msoccermap_ece\u001b[0m\u001b[0;34m,\u001b[0m \u001b[0mepv_ece\u001b[0m \u001b[0;34m=\u001b[0m \u001b[0mself\u001b[0m\u001b[0;34m.\u001b[0m\u001b[0mexpected_calibration_error\u001b[0m\u001b[0;34m(\u001b[0m\u001b[0my_hat\u001b[0m\u001b[0;34m,\u001b[0m\u001b[0my\u001b[0m\u001b[0;34m)\u001b[0m\u001b[0;34m\u001b[0m\u001b[0;34m\u001b[0m\u001b[0m\n",
      "\u001b[0;31mValueError\u001b[0m: could not determine the shape of object type 'DataFrame'"
     ]
    }
   ],
   "source": [
    "# Next, evaluate how the model performs on a test set\n",
    "model.test(dataset_test)"
   ]
  },
  {
   "cell_type": "markdown",
   "id": "d23f0697-e028-4dda-a29d-e040becd6236",
   "metadata": {
    "tags": []
   },
   "source": [
    "## Making predictions"
   ]
  },
  {
   "cell_type": "markdown",
   "id": "74b3b580-62c1-430d-ba6e-fc12d4c54a55",
   "metadata": {},
   "source": [
    "Once trained, the model can be used to estimate the success probability of each pass in a dataset."
   ]
  },
  {
   "cell_type": "code",
   "execution_count": 14,
   "id": "47cd89d2-e940-4a26-9a07-d5311528a563",
   "metadata": {
    "tags": []
   },
   "outputs": [
    {
     "data": {
      "text/html": [
       "<pre style=\"white-space:pre;overflow-x:auto;line-height:normal;font-family:Menlo,'DejaVu Sans Mono',consolas,'Courier New',monospace\"><span style=\"color: #7fbfbf; text-decoration-color: #7fbfbf\">[07/29/23 00:58:22] </span><span style=\"color: #000080; text-decoration-color: #000080\">INFO    </span> Loading dataset from ..<span style=\"color: #800080; text-decoration-color: #800080\">/stores/datasets/default/</span><span style=\"color: #ff00ff; text-decoration-color: #ff00ff\">test</span>                   <a href=\"file:///home/toc3/anaconda3/lib/python3.7/site-packages/lightning_utilities/core/rank_zero.py\" target=\"_blank\"><span style=\"color: #7f7f7f; text-decoration-color: #7f7f7f\">rank_zero.py</span></a><span style=\"color: #7f7f7f; text-decoration-color: #7f7f7f\">:</span><a href=\"file:///home/toc3/anaconda3/lib/python3.7/site-packages/lightning_utilities/core/rank_zero.py#32\" target=\"_blank\"><span style=\"color: #7f7f7f; text-decoration-color: #7f7f7f\">32</span></a>\n",
       "</pre>\n"
      ],
      "text/plain": [
       "\u001b[2;36m[07/29/23 00:58:22]\u001b[0m\u001b[2;36m \u001b[0m\u001b[34mINFO    \u001b[0m Loading dataset from ..\u001b[35m/stores/datasets/default/\u001b[0m\u001b[95mtest\u001b[0m                   \u001b]8;id=611726;file:///home/toc3/anaconda3/lib/python3.7/site-packages/lightning_utilities/core/rank_zero.py\u001b\\\u001b[2mrank_zero.py\u001b[0m\u001b]8;;\u001b\\\u001b[2m:\u001b[0m\u001b]8;id=215505;file:///home/toc3/anaconda3/lib/python3.7/site-packages/lightning_utilities/core/rank_zero.py#32\u001b\\\u001b[2m32\u001b[0m\u001b]8;;\u001b\\\n"
      ]
     },
     "metadata": {},
     "output_type": "display_data"
    },
    {
     "data": {
      "text/plain": [
       "game_id  action_id\n",
       "3788741  28           0.968557\n",
       "         30           0.989717\n",
       "         32           0.768555\n",
       "         34           0.221375\n",
       "         52           0.994890\n",
       "                        ...   \n",
       "3869685  2543         0.451086\n",
       "         2555         0.999054\n",
       "         2557         0.965747\n",
       "         2564         0.597041\n",
       "         2566         0.652929\n",
       "Length: 11435, dtype: float32"
      ]
     },
     "execution_count": 14,
     "metadata": {},
     "output_type": "execute_result"
    }
   ],
   "source": [
    "p_success = model.predict(dataset_test)\n",
    "p_success"
   ]
  },
  {
   "cell_type": "markdown",
   "id": "f265d283-4125-4986-9c11-ffd1d36b1961",
   "metadata": {},
   "source": [
    "Let's visualize what a pass what a high and a low success probability look like."
   ]
  },
  {
   "cell_type": "code",
   "execution_count": 73,
   "id": "9bde15c4-c485-4108-bd12-916672764fdc",
   "metadata": {
    "tags": []
   },
   "outputs": [],
   "source": [
    "# easy_pass, hard_pass = (3795506, 4), (3795506, 2791)\n",
    "# df_actions = db.actions(game_id=3795506)\n",
    "\n",
    "# fig, ax = plt.subplots(1, 2, figsize=(12,4))\n",
    "# plot_action(df_actions.loc[easy_pass], ax=ax[0])\n",
    "# ax[0].set_title(f\"P(success) = {p_success.loc[easy_pass]:.2f}\")\n",
    "# plot_action(df_actions.loc[hard_pass], ax=ax[1])\n",
    "# ax[1].set_title(f\"P(success) = {p_success.loc[hard_pass]:.2f}\")\n",
    "# plt.show()"
   ]
  },
  {
   "cell_type": "markdown",
   "id": "957fafc9-ee64-4617-821d-f1d6635fc44e",
   "metadata": {},
   "source": [
    "Instead of predicting the success probability of the actual pass, we can also estimate the success probability of a pass towards every other location on the  pitch."
   ]
  },
  {
   "cell_type": "code",
   "execution_count": 17,
   "id": "47f0a624",
   "metadata": {},
   "outputs": [
    {
     "data": {
      "text/html": [
       "<pre style=\"white-space:pre;overflow-x:auto;line-height:normal;font-family:Menlo,'DejaVu Sans Mono',consolas,'Courier New',monospace\"><span style=\"color: #7fbfbf; text-decoration-color: #7fbfbf\">[07/29/23 00:58:38] </span><span style=\"color: #000080; text-decoration-color: #000080\">INFO    </span> Loading dataset from ..<span style=\"color: #800080; text-decoration-color: #800080\">/stores/datasets/default/</span><span style=\"color: #ff00ff; text-decoration-color: #ff00ff\">test</span>                   <a href=\"file:///home/toc3/anaconda3/lib/python3.7/site-packages/lightning_utilities/core/rank_zero.py\" target=\"_blank\"><span style=\"color: #7f7f7f; text-decoration-color: #7f7f7f\">rank_zero.py</span></a><span style=\"color: #7f7f7f; text-decoration-color: #7f7f7f\">:</span><a href=\"file:///home/toc3/anaconda3/lib/python3.7/site-packages/lightning_utilities/core/rank_zero.py#32\" target=\"_blank\"><span style=\"color: #7f7f7f; text-decoration-color: #7f7f7f\">32</span></a>\n",
       "</pre>\n"
      ],
      "text/plain": [
       "\u001b[2;36m[07/29/23 00:58:38]\u001b[0m\u001b[2;36m \u001b[0m\u001b[34mINFO    \u001b[0m Loading dataset from ..\u001b[35m/stores/datasets/default/\u001b[0m\u001b[95mtest\u001b[0m                   \u001b]8;id=428316;file:///home/toc3/anaconda3/lib/python3.7/site-packages/lightning_utilities/core/rank_zero.py\u001b\\\u001b[2mrank_zero.py\u001b[0m\u001b]8;;\u001b\\\u001b[2m:\u001b[0m\u001b]8;id=306786;file:///home/toc3/anaconda3/lib/python3.7/site-packages/lightning_utilities/core/rank_zero.py#32\u001b\\\u001b[2m32\u001b[0m\u001b]8;;\u001b\\\n"
      ]
     },
     "metadata": {},
     "output_type": "display_data"
    },
    {
     "data": {
      "application/vnd.jupyter.widget-view+json": {
       "model_id": "1b1b08819d154c479e53917b0a2d7d61",
       "version_major": 2,
       "version_minor": 0
      },
      "text/plain": [
       "Output()"
      ]
     },
     "metadata": {},
     "output_type": "display_data"
    }
   ],
   "source": [
    "p_success_surfaces = model.predict_surface(dataset_test, game_id=3788743, db=test_db, x_bins=52, y_bins=34)"
   ]
  },
  {
   "cell_type": "code",
   "execution_count": 96,
   "id": "520d8222-6b4e-473b-ab7b-30081dbb8b11",
   "metadata": {
    "tags": []
   },
   "outputs": [
    {
     "data": {
      "image/png": "[encoded data removed]",
      "text/plain": [
       "<Figure size 432x288 with 1 Axes>"
      ]
     },
     "metadata": {},
     "output_type": "display_data"
    }
   ],
   "source": [
    "df_actions = test_db.actions(game_id=3788743)\n",
    "sample = (3788743, 15)\n",
    "\n",
    "fig, ax = plt.subplots(1, 1, figsize=(6,4))\n",
    "plot_action(df_actions.loc[sample], surface=p_success_surfaces[f\"action_{sample[1]}\"], ax=ax, surface_kwargs={\"cmap\": \"magma\", \"vmin\": 0, \"vmax\": 1, \"interpolation\": \"bilinear\"})\n",
    "plt.show()"
   ]
  },
  {
   "cell_type": "code",
   "execution_count": 98,
   "id": "da50790a",
   "metadata": {},
   "outputs": [
    {
     "data": {
      "image/png": "[encoded data removed]",
      "text/plain": [
       "<Figure size 432x288 with 1 Axes>"
      ]
     },
     "metadata": {},
     "output_type": "display_data"
    }
   ],
   "source": [
    "df_actions = test_db.actions(game_id=3788743)\n",
    "sample = (3788743, 2206)\n",
    "\n",
    "fig, ax = plt.subplots(1, 1, figsize=(6,4))\n",
    "plot_action(df_actions.loc[sample], surface=p_success_surfaces[f\"action_{sample[1]}\"], ax=ax, surface_kwargs={\"cmap\": \"magma\", \"vmin\": 0, \"vmax\": 1, \"interpolation\": \"bilinear\"})\n",
    "plt.show()"
   ]
  },
  {
   "cell_type": "code",
   "execution_count": null,
   "id": "a3dcaea3-ce62-48ed-b176-a10ac930c89b",
   "metadata": {
    "tags": []
   },
   "outputs": [],
   "source": [
    "db.close()"
   ]
  }
 ],
 "metadata": {
  "kernelspec": {
   "display_name": "base",
   "language": "python",
   "name": "python3"
  },
  "language_info": {
   "codemirror_mode": {
    "name": "ipython",
    "version": 3
   },
   "file_extension": ".py",
   "mimetype": "text/x-python",
   "name": "python",
   "nbconvert_exporter": "python",
   "pygments_lexer": "ipython3",
   "version": "3.7.4"
  }
 },
 "nbformat": 4,
 "nbformat_minor": 5
}
